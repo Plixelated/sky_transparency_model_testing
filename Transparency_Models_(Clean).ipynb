{
  "cells": [
    {
      "cell_type": "markdown",
      "metadata": {
        "id": "view-in-github",
        "colab_type": "text"
      },
      "source": [
        "<a href=\"https://colab.research.google.com/github/Plixelated/sky_transparency_model_testing/blob/main/Transparency_Models_(Clean).ipynb\" target=\"_parent\"><img src=\"https://colab.research.google.com/assets/colab-badge.svg\" alt=\"Open In Colab\"/></a>"
      ]
    },
    {
      "cell_type": "markdown",
      "metadata": {
        "id": "5FBWwkFLyTSB"
      },
      "source": [
        "#**Data Pre-Processing**"
      ]
    },
    {
      "cell_type": "code",
      "execution_count": null,
      "metadata": {
        "id": "EM5_-oY9BWMJ"
      },
      "outputs": [],
      "source": [
        "import pandas as pd\n",
        "import numpy as np\n",
        "from matplotlib import pyplot as plt\n",
        "import seaborn as sns"
      ]
    },
    {
      "cell_type": "code",
      "execution_count": null,
      "metadata": {
        "id": "pBcRaRBLPh3Y"
      },
      "outputs": [],
      "source": [
        "seed = 42"
      ]
    },
    {
      "cell_type": "code",
      "source": [
        "df = pd.read_csv('/content/transparency_model_dataset.csv')"
      ],
      "metadata": {
        "id": "sMrAw8pyuyqG"
      },
      "execution_count": null,
      "outputs": []
    },
    {
      "cell_type": "code",
      "execution_count": null,
      "metadata": {
        "id": "mpL4iPg3QbOC"
      },
      "outputs": [],
      "source": [
        "drop_columns = ['transparency_forecast (0-5)','time','seeing_forecast (0-5)','seeing_forecast_age (hrs)', 'transparency_forecast_age (hrs)']"
      ]
    },
    {
      "cell_type": "markdown",
      "metadata": {
        "id": "wJnHKwqkDI0Y"
      },
      "source": [
        "Set Attributes and Target Datasets"
      ]
    },
    {
      "cell_type": "code",
      "execution_count": null,
      "metadata": {
        "id": "xwiwALKO4feJ"
      },
      "outputs": [],
      "source": [
        "attributes = df.drop(columns=drop_columns)\n",
        "target = df[\"transparency_forecast (0-5)\"]"
      ]
    },
    {
      "cell_type": "markdown",
      "metadata": {
        "id": "UKES9lOeozN5"
      },
      "source": [
        "###Normalization"
      ]
    },
    {
      "cell_type": "code",
      "execution_count": null,
      "metadata": {
        "id": "_eK3cP5xKbtd"
      },
      "outputs": [],
      "source": [
        "from sklearn.preprocessing import MinMaxScaler"
      ]
    },
    {
      "cell_type": "code",
      "execution_count": null,
      "metadata": {
        "id": "mmjuX-NTKYEq"
      },
      "outputs": [],
      "source": [
        "scaler = MinMaxScaler()\n",
        "attributes_normal = scaler.fit_transform(attributes.values)"
      ]
    },
    {
      "cell_type": "markdown",
      "metadata": {
        "id": "hQsOFEMAo3PO"
      },
      "source": [
        "###Principle Component Analysis"
      ]
    },
    {
      "cell_type": "code",
      "execution_count": null,
      "metadata": {
        "id": "6uaDp2UcK4Vd"
      },
      "outputs": [],
      "source": [
        "from sklearn.decomposition import PCA"
      ]
    },
    {
      "cell_type": "code",
      "execution_count": null,
      "metadata": {
        "id": "HBj0QPcYK1bh"
      },
      "outputs": [],
      "source": [
        "pca = PCA(n_components = 10)\n",
        "attributes_pca = pca.fit_transform(attributes_normal)"
      ]
    },
    {
      "cell_type": "code",
      "execution_count": null,
      "metadata": {
        "colab": {
          "base_uri": "https://localhost:8080/"
        },
        "id": "ZF9It28-LBrW",
        "outputId": "4ad82eff-cef2-4bd8-e74d-13fad465670d"
      },
      "outputs": [
        {
          "output_type": "stream",
          "name": "stdout",
          "text": [
            "Explained Variance Values: [0.35944801 0.13752239 0.09267335 0.05602033 0.05050156 0.04527213\n",
            " 0.02777496 0.02685713 0.02423632 0.01622504]\n",
            "Total Dataset Retained: 0.8365312065549084\n"
          ]
        }
      ],
      "source": [
        "explained_variance = pca.explained_variance_ratio_\n",
        "print(\"Explained Variance Values:\",explained_variance)\n",
        "print('Total Dataset Retained:',sum(explained_variance))"
      ]
    },
    {
      "cell_type": "markdown",
      "metadata": {
        "id": "2pXeZ_uJpW7y"
      },
      "source": [
        "###Train/Test Split"
      ]
    },
    {
      "cell_type": "code",
      "execution_count": null,
      "metadata": {
        "id": "lPagq1kJLVje"
      },
      "outputs": [],
      "source": [
        "from sklearn.model_selection import train_test_split\n",
        "from matplotlib.ticker import PercentFormatter"
      ]
    },
    {
      "cell_type": "code",
      "execution_count": null,
      "metadata": {
        "id": "nw6C8UNSO18O",
        "cellView": "form"
      },
      "outputs": [],
      "source": [
        "#@title Non-PCA Train/Test Split\n",
        "X_train, X_test, y_train, y_test = train_test_split(\n",
        "    attributes_normal, target.values, test_size=0.3, stratify=target.values, random_state=seed)"
      ]
    },
    {
      "cell_type": "code",
      "execution_count": null,
      "metadata": {
        "id": "fRl6dqoQLPKY",
        "cellView": "form"
      },
      "outputs": [],
      "source": [
        "#@title PCA Train/Test Split\n",
        "X_train, X_test, y_train, y_test = train_test_split(\n",
        "    attributes_pca, target.values, test_size=0.3, stratify=target.values, random_state=seed)"
      ]
    },
    {
      "cell_type": "markdown",
      "source": [
        "###Resampling"
      ],
      "metadata": {
        "id": "_tHrIqibPLf3"
      }
    },
    {
      "cell_type": "code",
      "execution_count": null,
      "metadata": {
        "id": "PYNv-pwv5D0C"
      },
      "outputs": [],
      "source": [
        "from imblearn.over_sampling import RandomOverSampler"
      ]
    },
    {
      "cell_type": "code",
      "execution_count": null,
      "metadata": {
        "id": "3yx-NQx75GL_"
      },
      "outputs": [],
      "source": [
        "oversampler = RandomOverSampler(random_state=seed)\n",
        "X_train, y_train = oversampler.fit_resample(X_train, y_train)"
      ]
    },
    {
      "cell_type": "markdown",
      "metadata": {
        "id": "2RFLpfLuJXe4"
      },
      "source": [
        "###Supplementary methods"
      ]
    },
    {
      "cell_type": "code",
      "execution_count": null,
      "metadata": {
        "id": "ujxySWCyZRzn"
      },
      "outputs": [],
      "source": [
        "#@title Kfold Validation Method\n",
        "\n",
        "def kfold_validate(k,model,X1,X2,y1,y2):\n",
        "  _kf = KFold(n_splits = k)\n",
        "  _model_f1_CV_list = []\n",
        "  _model_f1_test_list = []\n",
        "  _models = []\n",
        "\n",
        "  for train_index, test_index in _kf.split(X1):\n",
        "      X_train_CV, X_test_CV = X1[train_index], X1[test_index]\n",
        "      y_train_CV, y_test_CV = y1[train_index], y1[test_index]\n",
        "      model.fit(X_train_CV, y_train_CV)\n",
        "      _models.append(model)\n",
        "\n",
        "      #Target prediction & F1 score using the 10 rows left out from CV.\n",
        "      y_pred_CV = model.predict(X_test_CV)\n",
        "      _model_f1_CV = f1_score(y_test_CV, y_pred_CV, average='weighted')\n",
        "      _model_f1_CV_list.append(_model_f1_CV)\n",
        "\n",
        "      #Target prediction & F1 score using the rows from your test split.\n",
        "      y_pred_test = model.predict(X2)\n",
        "      _model_f1_test = f1_score(y2, y_pred_test,average='weighted')\n",
        "      _model_f1_test_list.append(_model_f1_test)\n",
        "\n",
        "  return _model_f1_test_list, _models"
      ]
    },
    {
      "cell_type": "code",
      "execution_count": null,
      "metadata": {
        "id": "UoD-uYfIa1jr"
      },
      "outputs": [],
      "source": [
        "#@title Model Accuracy Table and Kfold Avg Methods\n",
        "\n",
        "def get_accuracy_table(y_t,y_p):\n",
        "  print('Accuracy: ', metrics.accuracy_score(y_t, y_p) * 100)\n",
        "  print(classification_report(y_t,y_p,labels=np.unique(y_p)))\n",
        "\n",
        "def get_kfold_avg(test_results):\n",
        "  return sum(test_results)/len(test_results)\n",
        "\n",
        "def plot_kfold_avg(test_results):\n",
        "  x = [i for i in range(len(test_results))]\n",
        "  y = test_results\n",
        "  plt.gca().yaxis.set_major_formatter(PercentFormatter(1))\n",
        "  plt.ylim(0.9,1.0)\n",
        "  plt.bar(x,y,width = 0.75)\n",
        "  plt.xlabel(\"Fold\")\n",
        "  plt.ylabel(\"F1 Score\")\n",
        "  plt.show()"
      ]
    },
    {
      "cell_type": "code",
      "execution_count": null,
      "metadata": {
        "id": "lHlLF6k5iPjC"
      },
      "outputs": [],
      "source": [
        "#@title Save/Load Models and Results\n",
        "\n",
        "import pickle\n",
        "\n",
        "def save_model(model_name,model):\n",
        "  filename = f'{model_name}_{int(metrics.accuracy_score(y_test, y_pred) * 100)}'\n",
        "  with open(f\"{filename}.pkl\", \"wb\") as f:\n",
        "      pickle.dump(model, f)\n",
        "\n",
        "def save_kfold_results(results,filename):\n",
        "  # Save the list to a file\n",
        "  with open(f\"{filename}.pkl\", \"wb\") as f:\n",
        "      pickle.dump(results, f)\n",
        "\n",
        "def save_kfold_models(model_list,model_name):\n",
        "  with open(f'{model_name}_models.pkl', 'wb') as f:\n",
        "    pickle.dump(model_list, f)\n",
        "\n",
        "def load_model(filename):\n",
        "  loaded_model = pickle.load(open(f'{filename}', 'rb'))\n",
        "  return loaded_model\n",
        "\n",
        "def load_kfold_results(filename):\n",
        "  # Load the list from the file\n",
        "  with open(f\"{filename}.pkl\", \"rb\") as f:\n",
        "      loaded_list = pickle.load(f)\n",
        "      return loaded_list\n",
        "\n",
        "def load_kfold_models(filename):\n",
        " with open(f'{filename}.pkl', 'rb') as f:\n",
        "    loaded_models = pickle.load(f)\n",
        "    return loaded_models"
      ]
    },
    {
      "cell_type": "code",
      "execution_count": null,
      "metadata": {
        "id": "vi34W8n2N8XY"
      },
      "outputs": [],
      "source": [
        "#@title Import Models, Tree Visualization, and K-Fold CV from Sklearn\n",
        "\n",
        "# Modeling\n",
        "from sklearn.ensemble import RandomForestClassifier\n",
        "from sklearn import metrics\n",
        "from sklearn.metrics import classification_report\n",
        "from sklearn.model_selection import RandomizedSearchCV, train_test_split\n",
        "from scipy.stats import randint\n",
        "\n",
        "# Tree Visualization\n",
        "from sklearn.tree import export_graphviz\n",
        "from IPython.display import Image\n",
        "import graphviz\n",
        "\n",
        "#K-Fold Cross Validation\n",
        "from sklearn.model_selection import KFold\n",
        "from sklearn.metrics import f1_score\n",
        "\n",
        "import time"
      ]
    },
    {
      "cell_type": "markdown",
      "source": [
        "#**Random Forest**"
      ],
      "metadata": {
        "id": "eKjvKnyRuFDG"
      }
    },
    {
      "cell_type": "markdown",
      "metadata": {
        "id": "TiT63CGLE_2x"
      },
      "source": [
        "##**Random Forest Training**"
      ]
    },
    {
      "cell_type": "code",
      "execution_count": null,
      "metadata": {
        "colab": {
          "base_uri": "https://localhost:8080/",
          "height": 98
        },
        "id": "Ws4XUQnxemMi",
        "outputId": "230a91c4-ee96-44ad-b22c-dca8bd8a6232"
      },
      "outputs": [
        {
          "output_type": "execute_result",
          "data": {
            "text/plain": [
              "RandomForestClassifier(class_weight='balanced', max_depth=5, n_estimators=300,\n",
              "                       random_state=42)"
            ],
            "text/html": [
              "<style>#sk-container-id-1 {\n",
              "  /* Definition of color scheme common for light and dark mode */\n",
              "  --sklearn-color-text: black;\n",
              "  --sklearn-color-line: gray;\n",
              "  /* Definition of color scheme for unfitted estimators */\n",
              "  --sklearn-color-unfitted-level-0: #fff5e6;\n",
              "  --sklearn-color-unfitted-level-1: #f6e4d2;\n",
              "  --sklearn-color-unfitted-level-2: #ffe0b3;\n",
              "  --sklearn-color-unfitted-level-3: chocolate;\n",
              "  /* Definition of color scheme for fitted estimators */\n",
              "  --sklearn-color-fitted-level-0: #f0f8ff;\n",
              "  --sklearn-color-fitted-level-1: #d4ebff;\n",
              "  --sklearn-color-fitted-level-2: #b3dbfd;\n",
              "  --sklearn-color-fitted-level-3: cornflowerblue;\n",
              "\n",
              "  /* Specific color for light theme */\n",
              "  --sklearn-color-text-on-default-background: var(--sg-text-color, var(--theme-code-foreground, var(--jp-content-font-color1, black)));\n",
              "  --sklearn-color-background: var(--sg-background-color, var(--theme-background, var(--jp-layout-color0, white)));\n",
              "  --sklearn-color-border-box: var(--sg-text-color, var(--theme-code-foreground, var(--jp-content-font-color1, black)));\n",
              "  --sklearn-color-icon: #696969;\n",
              "\n",
              "  @media (prefers-color-scheme: dark) {\n",
              "    /* Redefinition of color scheme for dark theme */\n",
              "    --sklearn-color-text-on-default-background: var(--sg-text-color, var(--theme-code-foreground, var(--jp-content-font-color1, white)));\n",
              "    --sklearn-color-background: var(--sg-background-color, var(--theme-background, var(--jp-layout-color0, #111)));\n",
              "    --sklearn-color-border-box: var(--sg-text-color, var(--theme-code-foreground, var(--jp-content-font-color1, white)));\n",
              "    --sklearn-color-icon: #878787;\n",
              "  }\n",
              "}\n",
              "\n",
              "#sk-container-id-1 {\n",
              "  color: var(--sklearn-color-text);\n",
              "}\n",
              "\n",
              "#sk-container-id-1 pre {\n",
              "  padding: 0;\n",
              "}\n",
              "\n",
              "#sk-container-id-1 input.sk-hidden--visually {\n",
              "  border: 0;\n",
              "  clip: rect(1px 1px 1px 1px);\n",
              "  clip: rect(1px, 1px, 1px, 1px);\n",
              "  height: 1px;\n",
              "  margin: -1px;\n",
              "  overflow: hidden;\n",
              "  padding: 0;\n",
              "  position: absolute;\n",
              "  width: 1px;\n",
              "}\n",
              "\n",
              "#sk-container-id-1 div.sk-dashed-wrapped {\n",
              "  border: 1px dashed var(--sklearn-color-line);\n",
              "  margin: 0 0.4em 0.5em 0.4em;\n",
              "  box-sizing: border-box;\n",
              "  padding-bottom: 0.4em;\n",
              "  background-color: var(--sklearn-color-background);\n",
              "}\n",
              "\n",
              "#sk-container-id-1 div.sk-container {\n",
              "  /* jupyter's `normalize.less` sets `[hidden] { display: none; }`\n",
              "     but bootstrap.min.css set `[hidden] { display: none !important; }`\n",
              "     so we also need the `!important` here to be able to override the\n",
              "     default hidden behavior on the sphinx rendered scikit-learn.org.\n",
              "     See: https://github.com/scikit-learn/scikit-learn/issues/21755 */\n",
              "  display: inline-block !important;\n",
              "  position: relative;\n",
              "}\n",
              "\n",
              "#sk-container-id-1 div.sk-text-repr-fallback {\n",
              "  display: none;\n",
              "}\n",
              "\n",
              "div.sk-parallel-item,\n",
              "div.sk-serial,\n",
              "div.sk-item {\n",
              "  /* draw centered vertical line to link estimators */\n",
              "  background-image: linear-gradient(var(--sklearn-color-text-on-default-background), var(--sklearn-color-text-on-default-background));\n",
              "  background-size: 2px 100%;\n",
              "  background-repeat: no-repeat;\n",
              "  background-position: center center;\n",
              "}\n",
              "\n",
              "/* Parallel-specific style estimator block */\n",
              "\n",
              "#sk-container-id-1 div.sk-parallel-item::after {\n",
              "  content: \"\";\n",
              "  width: 100%;\n",
              "  border-bottom: 2px solid var(--sklearn-color-text-on-default-background);\n",
              "  flex-grow: 1;\n",
              "}\n",
              "\n",
              "#sk-container-id-1 div.sk-parallel {\n",
              "  display: flex;\n",
              "  align-items: stretch;\n",
              "  justify-content: center;\n",
              "  background-color: var(--sklearn-color-background);\n",
              "  position: relative;\n",
              "}\n",
              "\n",
              "#sk-container-id-1 div.sk-parallel-item {\n",
              "  display: flex;\n",
              "  flex-direction: column;\n",
              "}\n",
              "\n",
              "#sk-container-id-1 div.sk-parallel-item:first-child::after {\n",
              "  align-self: flex-end;\n",
              "  width: 50%;\n",
              "}\n",
              "\n",
              "#sk-container-id-1 div.sk-parallel-item:last-child::after {\n",
              "  align-self: flex-start;\n",
              "  width: 50%;\n",
              "}\n",
              "\n",
              "#sk-container-id-1 div.sk-parallel-item:only-child::after {\n",
              "  width: 0;\n",
              "}\n",
              "\n",
              "/* Serial-specific style estimator block */\n",
              "\n",
              "#sk-container-id-1 div.sk-serial {\n",
              "  display: flex;\n",
              "  flex-direction: column;\n",
              "  align-items: center;\n",
              "  background-color: var(--sklearn-color-background);\n",
              "  padding-right: 1em;\n",
              "  padding-left: 1em;\n",
              "}\n",
              "\n",
              "\n",
              "/* Toggleable style: style used for estimator/Pipeline/ColumnTransformer box that is\n",
              "clickable and can be expanded/collapsed.\n",
              "- Pipeline and ColumnTransformer use this feature and define the default style\n",
              "- Estimators will overwrite some part of the style using the `sk-estimator` class\n",
              "*/\n",
              "\n",
              "/* Pipeline and ColumnTransformer style (default) */\n",
              "\n",
              "#sk-container-id-1 div.sk-toggleable {\n",
              "  /* Default theme specific background. It is overwritten whether we have a\n",
              "  specific estimator or a Pipeline/ColumnTransformer */\n",
              "  background-color: var(--sklearn-color-background);\n",
              "}\n",
              "\n",
              "/* Toggleable label */\n",
              "#sk-container-id-1 label.sk-toggleable__label {\n",
              "  cursor: pointer;\n",
              "  display: block;\n",
              "  width: 100%;\n",
              "  margin-bottom: 0;\n",
              "  padding: 0.5em;\n",
              "  box-sizing: border-box;\n",
              "  text-align: center;\n",
              "}\n",
              "\n",
              "#sk-container-id-1 label.sk-toggleable__label-arrow:before {\n",
              "  /* Arrow on the left of the label */\n",
              "  content: \"▸\";\n",
              "  float: left;\n",
              "  margin-right: 0.25em;\n",
              "  color: var(--sklearn-color-icon);\n",
              "}\n",
              "\n",
              "#sk-container-id-1 label.sk-toggleable__label-arrow:hover:before {\n",
              "  color: var(--sklearn-color-text);\n",
              "}\n",
              "\n",
              "/* Toggleable content - dropdown */\n",
              "\n",
              "#sk-container-id-1 div.sk-toggleable__content {\n",
              "  max-height: 0;\n",
              "  max-width: 0;\n",
              "  overflow: hidden;\n",
              "  text-align: left;\n",
              "  /* unfitted */\n",
              "  background-color: var(--sklearn-color-unfitted-level-0);\n",
              "}\n",
              "\n",
              "#sk-container-id-1 div.sk-toggleable__content.fitted {\n",
              "  /* fitted */\n",
              "  background-color: var(--sklearn-color-fitted-level-0);\n",
              "}\n",
              "\n",
              "#sk-container-id-1 div.sk-toggleable__content pre {\n",
              "  margin: 0.2em;\n",
              "  border-radius: 0.25em;\n",
              "  color: var(--sklearn-color-text);\n",
              "  /* unfitted */\n",
              "  background-color: var(--sklearn-color-unfitted-level-0);\n",
              "}\n",
              "\n",
              "#sk-container-id-1 div.sk-toggleable__content.fitted pre {\n",
              "  /* unfitted */\n",
              "  background-color: var(--sklearn-color-fitted-level-0);\n",
              "}\n",
              "\n",
              "#sk-container-id-1 input.sk-toggleable__control:checked~div.sk-toggleable__content {\n",
              "  /* Expand drop-down */\n",
              "  max-height: 200px;\n",
              "  max-width: 100%;\n",
              "  overflow: auto;\n",
              "}\n",
              "\n",
              "#sk-container-id-1 input.sk-toggleable__control:checked~label.sk-toggleable__label-arrow:before {\n",
              "  content: \"▾\";\n",
              "}\n",
              "\n",
              "/* Pipeline/ColumnTransformer-specific style */\n",
              "\n",
              "#sk-container-id-1 div.sk-label input.sk-toggleable__control:checked~label.sk-toggleable__label {\n",
              "  color: var(--sklearn-color-text);\n",
              "  background-color: var(--sklearn-color-unfitted-level-2);\n",
              "}\n",
              "\n",
              "#sk-container-id-1 div.sk-label.fitted input.sk-toggleable__control:checked~label.sk-toggleable__label {\n",
              "  background-color: var(--sklearn-color-fitted-level-2);\n",
              "}\n",
              "\n",
              "/* Estimator-specific style */\n",
              "\n",
              "/* Colorize estimator box */\n",
              "#sk-container-id-1 div.sk-estimator input.sk-toggleable__control:checked~label.sk-toggleable__label {\n",
              "  /* unfitted */\n",
              "  background-color: var(--sklearn-color-unfitted-level-2);\n",
              "}\n",
              "\n",
              "#sk-container-id-1 div.sk-estimator.fitted input.sk-toggleable__control:checked~label.sk-toggleable__label {\n",
              "  /* fitted */\n",
              "  background-color: var(--sklearn-color-fitted-level-2);\n",
              "}\n",
              "\n",
              "#sk-container-id-1 div.sk-label label.sk-toggleable__label,\n",
              "#sk-container-id-1 div.sk-label label {\n",
              "  /* The background is the default theme color */\n",
              "  color: var(--sklearn-color-text-on-default-background);\n",
              "}\n",
              "\n",
              "/* On hover, darken the color of the background */\n",
              "#sk-container-id-1 div.sk-label:hover label.sk-toggleable__label {\n",
              "  color: var(--sklearn-color-text);\n",
              "  background-color: var(--sklearn-color-unfitted-level-2);\n",
              "}\n",
              "\n",
              "/* Label box, darken color on hover, fitted */\n",
              "#sk-container-id-1 div.sk-label.fitted:hover label.sk-toggleable__label.fitted {\n",
              "  color: var(--sklearn-color-text);\n",
              "  background-color: var(--sklearn-color-fitted-level-2);\n",
              "}\n",
              "\n",
              "/* Estimator label */\n",
              "\n",
              "#sk-container-id-1 div.sk-label label {\n",
              "  font-family: monospace;\n",
              "  font-weight: bold;\n",
              "  display: inline-block;\n",
              "  line-height: 1.2em;\n",
              "}\n",
              "\n",
              "#sk-container-id-1 div.sk-label-container {\n",
              "  text-align: center;\n",
              "}\n",
              "\n",
              "/* Estimator-specific */\n",
              "#sk-container-id-1 div.sk-estimator {\n",
              "  font-family: monospace;\n",
              "  border: 1px dotted var(--sklearn-color-border-box);\n",
              "  border-radius: 0.25em;\n",
              "  box-sizing: border-box;\n",
              "  margin-bottom: 0.5em;\n",
              "  /* unfitted */\n",
              "  background-color: var(--sklearn-color-unfitted-level-0);\n",
              "}\n",
              "\n",
              "#sk-container-id-1 div.sk-estimator.fitted {\n",
              "  /* fitted */\n",
              "  background-color: var(--sklearn-color-fitted-level-0);\n",
              "}\n",
              "\n",
              "/* on hover */\n",
              "#sk-container-id-1 div.sk-estimator:hover {\n",
              "  /* unfitted */\n",
              "  background-color: var(--sklearn-color-unfitted-level-2);\n",
              "}\n",
              "\n",
              "#sk-container-id-1 div.sk-estimator.fitted:hover {\n",
              "  /* fitted */\n",
              "  background-color: var(--sklearn-color-fitted-level-2);\n",
              "}\n",
              "\n",
              "/* Specification for estimator info (e.g. \"i\" and \"?\") */\n",
              "\n",
              "/* Common style for \"i\" and \"?\" */\n",
              "\n",
              ".sk-estimator-doc-link,\n",
              "a:link.sk-estimator-doc-link,\n",
              "a:visited.sk-estimator-doc-link {\n",
              "  float: right;\n",
              "  font-size: smaller;\n",
              "  line-height: 1em;\n",
              "  font-family: monospace;\n",
              "  background-color: var(--sklearn-color-background);\n",
              "  border-radius: 1em;\n",
              "  height: 1em;\n",
              "  width: 1em;\n",
              "  text-decoration: none !important;\n",
              "  margin-left: 1ex;\n",
              "  /* unfitted */\n",
              "  border: var(--sklearn-color-unfitted-level-1) 1pt solid;\n",
              "  color: var(--sklearn-color-unfitted-level-1);\n",
              "}\n",
              "\n",
              ".sk-estimator-doc-link.fitted,\n",
              "a:link.sk-estimator-doc-link.fitted,\n",
              "a:visited.sk-estimator-doc-link.fitted {\n",
              "  /* fitted */\n",
              "  border: var(--sklearn-color-fitted-level-1) 1pt solid;\n",
              "  color: var(--sklearn-color-fitted-level-1);\n",
              "}\n",
              "\n",
              "/* On hover */\n",
              "div.sk-estimator:hover .sk-estimator-doc-link:hover,\n",
              ".sk-estimator-doc-link:hover,\n",
              "div.sk-label-container:hover .sk-estimator-doc-link:hover,\n",
              ".sk-estimator-doc-link:hover {\n",
              "  /* unfitted */\n",
              "  background-color: var(--sklearn-color-unfitted-level-3);\n",
              "  color: var(--sklearn-color-background);\n",
              "  text-decoration: none;\n",
              "}\n",
              "\n",
              "div.sk-estimator.fitted:hover .sk-estimator-doc-link.fitted:hover,\n",
              ".sk-estimator-doc-link.fitted:hover,\n",
              "div.sk-label-container:hover .sk-estimator-doc-link.fitted:hover,\n",
              ".sk-estimator-doc-link.fitted:hover {\n",
              "  /* fitted */\n",
              "  background-color: var(--sklearn-color-fitted-level-3);\n",
              "  color: var(--sklearn-color-background);\n",
              "  text-decoration: none;\n",
              "}\n",
              "\n",
              "/* Span, style for the box shown on hovering the info icon */\n",
              ".sk-estimator-doc-link span {\n",
              "  display: none;\n",
              "  z-index: 9999;\n",
              "  position: relative;\n",
              "  font-weight: normal;\n",
              "  right: .2ex;\n",
              "  padding: .5ex;\n",
              "  margin: .5ex;\n",
              "  width: min-content;\n",
              "  min-width: 20ex;\n",
              "  max-width: 50ex;\n",
              "  color: var(--sklearn-color-text);\n",
              "  box-shadow: 2pt 2pt 4pt #999;\n",
              "  /* unfitted */\n",
              "  background: var(--sklearn-color-unfitted-level-0);\n",
              "  border: .5pt solid var(--sklearn-color-unfitted-level-3);\n",
              "}\n",
              "\n",
              ".sk-estimator-doc-link.fitted span {\n",
              "  /* fitted */\n",
              "  background: var(--sklearn-color-fitted-level-0);\n",
              "  border: var(--sklearn-color-fitted-level-3);\n",
              "}\n",
              "\n",
              ".sk-estimator-doc-link:hover span {\n",
              "  display: block;\n",
              "}\n",
              "\n",
              "/* \"?\"-specific style due to the `<a>` HTML tag */\n",
              "\n",
              "#sk-container-id-1 a.estimator_doc_link {\n",
              "  float: right;\n",
              "  font-size: 1rem;\n",
              "  line-height: 1em;\n",
              "  font-family: monospace;\n",
              "  background-color: var(--sklearn-color-background);\n",
              "  border-radius: 1rem;\n",
              "  height: 1rem;\n",
              "  width: 1rem;\n",
              "  text-decoration: none;\n",
              "  /* unfitted */\n",
              "  color: var(--sklearn-color-unfitted-level-1);\n",
              "  border: var(--sklearn-color-unfitted-level-1) 1pt solid;\n",
              "}\n",
              "\n",
              "#sk-container-id-1 a.estimator_doc_link.fitted {\n",
              "  /* fitted */\n",
              "  border: var(--sklearn-color-fitted-level-1) 1pt solid;\n",
              "  color: var(--sklearn-color-fitted-level-1);\n",
              "}\n",
              "\n",
              "/* On hover */\n",
              "#sk-container-id-1 a.estimator_doc_link:hover {\n",
              "  /* unfitted */\n",
              "  background-color: var(--sklearn-color-unfitted-level-3);\n",
              "  color: var(--sklearn-color-background);\n",
              "  text-decoration: none;\n",
              "}\n",
              "\n",
              "#sk-container-id-1 a.estimator_doc_link.fitted:hover {\n",
              "  /* fitted */\n",
              "  background-color: var(--sklearn-color-fitted-level-3);\n",
              "}\n",
              "</style><div id=\"sk-container-id-1\" class=\"sk-top-container\"><div class=\"sk-text-repr-fallback\"><pre>RandomForestClassifier(class_weight=&#x27;balanced&#x27;, max_depth=5, n_estimators=300,\n",
              "                       random_state=42)</pre><b>In a Jupyter environment, please rerun this cell to show the HTML representation or trust the notebook. <br />On GitHub, the HTML representation is unable to render, please try loading this page with nbviewer.org.</b></div><div class=\"sk-container\" hidden><div class=\"sk-item\"><div class=\"sk-estimator  sk-toggleable\"><input class=\"sk-toggleable__control sk-hidden--visually\" id=\"sk-estimator-id-1\" type=\"checkbox\" checked><label for=\"sk-estimator-id-1\" class=\"sk-toggleable__label  sk-toggleable__label-arrow \">&nbsp;&nbsp;RandomForestClassifier<a class=\"sk-estimator-doc-link \" rel=\"noreferrer\" target=\"_blank\" href=\"https://scikit-learn.org/1.5/modules/generated/sklearn.ensemble.RandomForestClassifier.html\">?<span>Documentation for RandomForestClassifier</span></a><span class=\"sk-estimator-doc-link \">i<span>Not fitted</span></span></label><div class=\"sk-toggleable__content \"><pre>RandomForestClassifier(class_weight=&#x27;balanced&#x27;, max_depth=5, n_estimators=300,\n",
              "                       random_state=42)</pre></div> </div></div></div></div>"
            ]
          },
          "metadata": {},
          "execution_count": 29
        }
      ],
      "source": [
        "#Create RFC Model with Select Hyperparameters\n",
        "rfc = RandomForestClassifier(\n",
        "    class_weight='balanced',\n",
        "    max_depth=5,max_features='sqrt',\n",
        "    n_estimators=300,\n",
        "    random_state=seed)\n",
        "rfc"
      ]
    },
    {
      "cell_type": "markdown",
      "metadata": {
        "id": "J9fqtoeCKqA2"
      },
      "source": [
        "###**K-Fold Cross Validation**"
      ]
    },
    {
      "cell_type": "code",
      "execution_count": null,
      "metadata": {
        "colab": {
          "base_uri": "https://localhost:8080/"
        },
        "id": "Pb8J919z3vS5",
        "outputId": "fdcfb2b6-3afa-473e-d060-3d1886354024"
      },
      "outputs": [
        {
          "output_type": "stream",
          "name": "stdout",
          "text": [
            "Training Time: 63.55494976043701\n"
          ]
        },
        {
          "output_type": "execute_result",
          "data": {
            "text/plain": [
              "[0.5369521349956848,\n",
              " 0.5335874601016035,\n",
              " 0.53290843487026,\n",
              " 0.5327515119185722,\n",
              " 0.5281357639898706,\n",
              " 0.5315367207334154,\n",
              " 0.5336579437818646,\n",
              " 0.5294115154428739,\n",
              " 0.5361182795688778,\n",
              " 0.5400836389193759]"
            ]
          },
          "metadata": {},
          "execution_count": 30
        }
      ],
      "source": [
        "#K Fold Validation Training\n",
        "start_time = time.time()\n",
        "k_fold_rfc,rfc_models = kfold_validate(10,rfc,X_train,X_test,y_train,y_test)\n",
        "#Get End Time\n",
        "end_time = time.time()\n",
        "#Get Total Training Time\n",
        "training_time = end_time - start_time\n",
        "print('Training Time:',training_time)\n",
        "k_fold_rfc"
      ]
    },
    {
      "cell_type": "code",
      "execution_count": null,
      "metadata": {
        "colab": {
          "base_uri": "https://localhost:8080/"
        },
        "id": "YthnVKqVmkRS",
        "outputId": "63d9e8ab-fa6a-4fee-d768-c5c48129197a"
      },
      "outputs": [
        {
          "output_type": "execute_result",
          "data": {
            "text/plain": [
              "0.5335143404322399"
            ]
          },
          "metadata": {},
          "execution_count": 39
        }
      ],
      "source": [
        "#Show Averaged Accuracy of Kfold Models\n",
        "get_kfold_avg(k_fold_rfc)"
      ]
    },
    {
      "cell_type": "markdown",
      "metadata": {
        "id": "Ckah49_SK1jY"
      },
      "source": [
        "###**Train Model**"
      ]
    },
    {
      "cell_type": "code",
      "execution_count": null,
      "metadata": {
        "colab": {
          "base_uri": "https://localhost:8080/"
        },
        "id": "o4vbxRF4OJaW",
        "outputId": "50af2619-d7b2-4785-bf54-7668d6020505"
      },
      "outputs": [
        {
          "output_type": "execute_result",
          "data": {
            "text/plain": [
              "5.807288646697998"
            ]
          },
          "metadata": {},
          "execution_count": 31
        }
      ],
      "source": [
        "#Train Single Model on entire Dataset\n",
        "\n",
        "#Get Start Time\n",
        "start_time = time.time()\n",
        "#Train Model\n",
        "rfc.fit(X_train,y_train)\n",
        "#Get End Time\n",
        "end_time = time.time()\n",
        "#Get Total Training Time\n",
        "training_time = end_time - start_time\n",
        "training_time"
      ]
    },
    {
      "cell_type": "markdown",
      "metadata": {
        "id": "T4NGZtj5K9E3"
      },
      "source": [
        "###**Model Validation**"
      ]
    },
    {
      "cell_type": "markdown",
      "metadata": {
        "id": "Q8vieeGYK5tg"
      },
      "source": [
        "**Predicitions**"
      ]
    },
    {
      "cell_type": "code",
      "execution_count": null,
      "metadata": {
        "id": "Ndhaj8PJMTxM"
      },
      "outputs": [],
      "source": [
        "#Get Predicted Values\n",
        "y_pred = rfc.predict(X_test)"
      ]
    },
    {
      "cell_type": "code",
      "execution_count": null,
      "metadata": {
        "colab": {
          "base_uri": "https://localhost:8080/"
        },
        "id": "XTygyq4ROavl",
        "outputId": "fa75a18b-a14c-4d64-85a0-515ba3e599b3"
      },
      "outputs": [
        {
          "output_type": "stream",
          "name": "stdout",
          "text": [
            "Accuracy:  53.36749633967789\n",
            "              precision    recall  f1-score   support\n",
            "\n",
            "           0       0.80      0.59      0.68       560\n",
            "           1       0.21      0.48      0.29       126\n",
            "           2       0.34      0.30      0.32       363\n",
            "           3       0.48      0.25      0.32       451\n",
            "           4       0.45      0.49      0.47       551\n",
            "           5       0.66      0.84      0.74       681\n",
            "\n",
            "    accuracy                           0.53      2732\n",
            "   macro avg       0.49      0.49      0.47      2732\n",
            "weighted avg       0.55      0.53      0.53      2732\n",
            "\n"
          ]
        }
      ],
      "source": [
        "#Display Accuracy Table Based on Predicted Values\n",
        "get_accuracy_table(y_test,y_pred)"
      ]
    },
    {
      "cell_type": "code",
      "execution_count": null,
      "metadata": {
        "colab": {
          "base_uri": "https://localhost:8080/"
        },
        "id": "uH4NJJFEAsZl",
        "outputId": "d269986a-1c80-4ea3-9c94-32c8cf25840d"
      },
      "outputs": [
        {
          "output_type": "execute_result",
          "data": {
            "text/plain": [
              "array([0.67761807, 0.29256595, 0.31884058, 0.3245614 , 0.47007806,\n",
              "       0.74385511])"
            ]
          },
          "metadata": {},
          "execution_count": 34
        }
      ],
      "source": [
        "#Get F1 Score for each class\n",
        "f1 = metrics.f1_score(y_test,y_pred,average=None)\n",
        "f1"
      ]
    },
    {
      "cell_type": "markdown",
      "metadata": {
        "id": "0cBVDf6ALJ-H"
      },
      "source": [
        "##**RFC Visualizations**"
      ]
    },
    {
      "cell_type": "markdown",
      "source": [
        "**F1 Score Per Target Class**"
      ],
      "metadata": {
        "id": "c8LYA9_WhP-Q"
      }
    },
    {
      "cell_type": "code",
      "execution_count": null,
      "metadata": {
        "colab": {
          "base_uri": "https://localhost:8080/",
          "height": 545
        },
        "id": "fBRkN3tWCAR7",
        "outputId": "a57040cd-fa7c-48a6-d2eb-160e8b6b1999"
      },
      "outputs": [
        {
          "output_type": "display_data",
          "data": {
            "text/plain": [
              "<Figure size 800x600 with 1 Axes>"
            ],
            "image/png": "[encoded data removed]"
          },
          "metadata": {}
        }
      ],
      "source": [
        "#Fig 13\n",
        "plt.figure(figsize=(8,6))\n",
        "classes=[\"Not Visibile\",\"Poor\",\"Below Average\",\"Average\",\"Above Average\",\"Transparent\"]\n",
        "plt.bar(classes,f1,width=0.6,color='palevioletred',alpha=0.75)\n",
        "plt.ylim(0,1)\n",
        "plt.title(\"F1 Score Per Class\")\n",
        "plt.show()"
      ]
    },
    {
      "cell_type": "markdown",
      "source": [
        "**K-Fold Models vs Full Dataset Visualization**"
      ],
      "metadata": {
        "id": "nDU1ZCcphKes"
      }
    },
    {
      "cell_type": "code",
      "execution_count": null,
      "metadata": {
        "colab": {
          "base_uri": "https://localhost:8080/",
          "height": 455
        },
        "id": "hVMMC0PW-9eq",
        "outputId": "9cc34d0f-d0c1-4d18-ae0f-1c5c9b6b871f"
      },
      "outputs": [
        {
          "output_type": "display_data",
          "data": {
            "text/plain": [
              "<Figure size 640x480 with 1 Axes>"
            ],
            "image/png": "[encoded data removed]"
          },
          "metadata": {}
        }
      ],
      "source": [
        "#Fig 12\n",
        "x = [i+1 for i in range(len(k_fold_rfc))]\n",
        "y = k_fold_rfc\n",
        "f1 = f1_score(y_test,y_pred,average=\"weighted\")\n",
        "\n",
        "fig, ax=plt.subplots()\n",
        "\n",
        "plt.gca().yaxis.set_major_formatter(PercentFormatter(1))\n",
        "plt.ylim(0.5,0.58)\n",
        "\n",
        "ax.bar(x,y,label='K Fold',color='palevioletred',alpha=0.75)\n",
        "ax.bar(11,f1,label='Full Dataset',color='sandybrown')\n",
        "\n",
        "plt.legend(loc='upper left')\n",
        "\n",
        "\n",
        "plt.xlabel(\"Fold\")\n",
        "plt.ylabel(\"F1 Score\")\n",
        "plt.show()"
      ]
    },
    {
      "cell_type": "markdown",
      "source": [
        "**Confusion Matrix**"
      ],
      "metadata": {
        "id": "Rna0MlrPhZ2g"
      }
    },
    {
      "cell_type": "code",
      "execution_count": null,
      "metadata": {
        "colab": {
          "base_uri": "https://localhost:8080/",
          "height": 815
        },
        "id": "wMc_P1EeACrF",
        "outputId": "52ab3178-a78a-4f17-d11c-3e21b4df6108"
      },
      "outputs": [
        {
          "output_type": "display_data",
          "data": {
            "text/plain": [
              "<Figure size 1000x1000 with 2 Axes>"
            ],
            "image/png": "[encoded data removed]"
          },
          "metadata": {}
        }
      ],
      "source": [
        "#FIG 14\n",
        "# Create the confusion matrix\n",
        "labels = [\"Not Visibile\",\"Poor\",\"Below Average\",\"Average\",\"Above Average\",\"Transparent\"]\n",
        "cm = metrics.confusion_matrix(y_test, y_pred)\n",
        "fig, ax = plt.subplots(figsize=(10, 10))\n",
        "disp = metrics.ConfusionMatrixDisplay(confusion_matrix=cm, display_labels=labels)\n",
        "disp.plot(ax=ax,cmap='RdPu')\n",
        "plt.show()"
      ]
    },
    {
      "cell_type": "markdown",
      "source": [
        "#**Gradient Boosting**"
      ],
      "metadata": {
        "id": "V36L2RFstv4u"
      }
    },
    {
      "cell_type": "markdown",
      "metadata": {
        "id": "zZb6_OYAGpB5"
      },
      "source": [
        "##**Gradient Boosting Training**"
      ]
    },
    {
      "cell_type": "code",
      "execution_count": null,
      "metadata": {
        "id": "1zKt9SCPXRuV"
      },
      "outputs": [],
      "source": [
        "from sklearn.ensemble import GradientBoostingClassifier"
      ]
    },
    {
      "cell_type": "code",
      "execution_count": null,
      "metadata": {
        "colab": {
          "base_uri": "https://localhost:8080/"
        },
        "id": "HSZ0RThAXTI9",
        "outputId": "f003cf58-ae06-47d0-c885-f1bb44de8b48"
      },
      "outputs": [
        {
          "output_type": "execute_result",
          "data": {
            "text/plain": [
              "{'ccp_alpha': 0.0,\n",
              " 'criterion': 'friedman_mse',\n",
              " 'init': None,\n",
              " 'learning_rate': 0.1,\n",
              " 'loss': 'log_loss',\n",
              " 'max_depth': 5,\n",
              " 'max_features': None,\n",
              " 'max_leaf_nodes': None,\n",
              " 'min_impurity_decrease': 0.0,\n",
              " 'min_samples_leaf': 50,\n",
              " 'min_samples_split': 50,\n",
              " 'min_weight_fraction_leaf': 0.0,\n",
              " 'n_estimators': 1000,\n",
              " 'n_iter_no_change': 10,\n",
              " 'random_state': 42,\n",
              " 'subsample': 1.0,\n",
              " 'tol': 0.0001,\n",
              " 'validation_fraction': 0.1,\n",
              " 'verbose': 0,\n",
              " 'warm_start': False}"
            ]
          },
          "metadata": {},
          "execution_count": 41
        }
      ],
      "source": [
        "#Create Gradient Boosting Model with Hyperparameters\n",
        "gradient_booster = GradientBoostingClassifier(\n",
        "    n_estimators=1000,\n",
        "    max_depth = 5,\n",
        "    random_state = seed,\n",
        "    learning_rate=0.1,\n",
        "    validation_fraction=0.1,\n",
        "    n_iter_no_change=10,\n",
        "    min_samples_split=50,\n",
        "    min_samples_leaf=50)\n",
        "gradient_booster.get_params()"
      ]
    },
    {
      "cell_type": "markdown",
      "metadata": {
        "id": "g_ks-xISLmrn"
      },
      "source": [
        "###**K-Fold Cross Validation**"
      ]
    },
    {
      "cell_type": "code",
      "execution_count": null,
      "metadata": {
        "id": "NLGiqZ0naM64",
        "colab": {
          "base_uri": "https://localhost:8080/"
        },
        "outputId": "09c53ef6-609b-4c62-ead0-03e860ff7b9e"
      },
      "outputs": [
        {
          "output_type": "stream",
          "name": "stdout",
          "text": [
            "Training Time: 1597.4097504615784\n"
          ]
        },
        {
          "output_type": "execute_result",
          "data": {
            "text/plain": [
              "[0.6516738497037216,\n",
              " 0.653908947570096,\n",
              " 0.6450858767598531,\n",
              " 0.6573527929131758,\n",
              " 0.6560092765575211,\n",
              " 0.6451488625159847,\n",
              " 0.6520897974380329,\n",
              " 0.6610739028213501,\n",
              " 0.6606048254515241,\n",
              " 0.6454774839071873]"
            ]
          },
          "metadata": {},
          "execution_count": 42
        }
      ],
      "source": [
        "#Kfold Validation Training\n",
        "start_time = time.time()\n",
        "k_fold_gradient, gradient_models = kfold_validate(10,gradient_booster,X_train,X_test,y_train,y_test)\n",
        "#Get End Time\n",
        "end_time = time.time()\n",
        "#Get Total Training Time\n",
        "training_time = end_time - start_time\n",
        "print(\"Training Time:\",training_time)\n",
        "k_fold_gradient"
      ]
    },
    {
      "cell_type": "code",
      "execution_count": null,
      "metadata": {
        "colab": {
          "base_uri": "https://localhost:8080/"
        },
        "id": "RrRDR0OCodVs",
        "outputId": "c324949e-259f-4974-ed87-5f8eddc69c0c"
      },
      "outputs": [
        {
          "output_type": "execute_result",
          "data": {
            "text/plain": [
              "0.6528425615638447"
            ]
          },
          "metadata": {},
          "execution_count": 43
        }
      ],
      "source": [
        "#Get Average Accuracy of KFold Models\n",
        "get_kfold_avg(k_fold_gradient)"
      ]
    },
    {
      "cell_type": "markdown",
      "metadata": {
        "id": "RP5jmGdULtvJ"
      },
      "source": [
        "###**Train Model**"
      ]
    },
    {
      "cell_type": "code",
      "execution_count": null,
      "metadata": {
        "colab": {
          "base_uri": "https://localhost:8080/"
        },
        "id": "442hx2sAXq7F",
        "outputId": "d153910e-1c71-4f18-f315-f3f04e0c88ec"
      },
      "outputs": [
        {
          "output_type": "execute_result",
          "data": {
            "text/plain": [
              "223.3556580543518"
            ]
          },
          "metadata": {},
          "execution_count": 44
        }
      ],
      "source": [
        "#Train Single Model on Full Dataset\n",
        "#Get Start Time\n",
        "start_time = time.time()\n",
        "#Train Model\n",
        "gradient_booster.fit(X_train,y_train)\n",
        "#Get End Time\n",
        "end_time = time.time()\n",
        "#Get Total Training Time\n",
        "training_time = end_time - start_time\n",
        "training_time"
      ]
    },
    {
      "cell_type": "code",
      "execution_count": null,
      "metadata": {
        "colab": {
          "base_uri": "https://localhost:8080/"
        },
        "id": "EhrHJwGbxYic",
        "outputId": "77c2121a-bf28-462e-a59a-6940e5c31e31"
      },
      "outputs": [
        {
          "output_type": "execute_result",
          "data": {
            "text/plain": [
              "578"
            ]
          },
          "metadata": {},
          "execution_count": 45
        }
      ],
      "source": [
        "#Get Number of Iterations\n",
        "gradient_booster.n_estimators_"
      ]
    },
    {
      "cell_type": "markdown",
      "metadata": {
        "id": "_odzwIaeL132"
      },
      "source": [
        "###**Model Validation**"
      ]
    },
    {
      "cell_type": "markdown",
      "metadata": {
        "id": "M_waVAT8Lw3I"
      },
      "source": [
        "**Make Predictions**"
      ]
    },
    {
      "cell_type": "code",
      "execution_count": null,
      "metadata": {
        "id": "tSErXfD6XvpK"
      },
      "outputs": [],
      "source": [
        "#Get Predicted Values\n",
        "y_pred = gradient_booster.predict(X_test)"
      ]
    },
    {
      "cell_type": "code",
      "execution_count": null,
      "metadata": {
        "colab": {
          "base_uri": "https://localhost:8080/"
        },
        "id": "zifbr_xHcWn_",
        "outputId": "6231fcac-7dd4-4c7b-c995-aa22d77f0daf"
      },
      "outputs": [
        {
          "output_type": "stream",
          "name": "stdout",
          "text": [
            "Accuracy:  65.70278184480233\n",
            "              precision    recall  f1-score   support\n",
            "\n",
            "           0       0.73      0.78      0.75       560\n",
            "           1       0.34      0.22      0.27       126\n",
            "           2       0.44      0.39      0.41       363\n",
            "           3       0.56      0.53      0.55       451\n",
            "           4       0.61      0.67      0.64       551\n",
            "           5       0.84      0.85      0.84       681\n",
            "\n",
            "    accuracy                           0.66      2732\n",
            "   macro avg       0.59      0.57      0.58      2732\n",
            "weighted avg       0.65      0.66      0.65      2732\n",
            "\n"
          ]
        }
      ],
      "source": [
        "#Get Validation Table\n",
        "get_accuracy_table(y_test,y_pred)"
      ]
    },
    {
      "cell_type": "markdown",
      "metadata": {
        "id": "MyGp2h36L_ey"
      },
      "source": [
        "##**GB Visualizations**"
      ]
    },
    {
      "cell_type": "markdown",
      "source": [
        "**K-Fold Models vs Full Dataset**"
      ],
      "metadata": {
        "id": "DT1w4qcsiKFq"
      }
    },
    {
      "cell_type": "code",
      "execution_count": null,
      "metadata": {
        "colab": {
          "base_uri": "https://localhost:8080/",
          "height": 455
        },
        "id": "l9mNNdwsHbyy",
        "outputId": "6658f933-9452-4a0b-891b-ec0b9cf2c0e6"
      },
      "outputs": [
        {
          "output_type": "display_data",
          "data": {
            "text/plain": [
              "<Figure size 640x480 with 1 Axes>"
            ],
            "image/png": "[encoded data removed]"
          },
          "metadata": {}
        }
      ],
      "source": [
        "x = [i+1 for i in range(len(k_fold_rfc))]\n",
        "y = k_fold_gradient\n",
        "f1 = f1_score(y_test,y_pred,average=\"weighted\")\n",
        "\n",
        "fig, ax=plt.subplots()\n",
        "\n",
        "plt.gca().yaxis.set_major_formatter(PercentFormatter(1))\n",
        "plt.ylim(0.62,0.70)\n",
        "\n",
        "ax.bar(x,y,label='K Fold',color='yellowgreen',alpha=0.75)\n",
        "ax.bar(11,f1,label='Full Dataset',color='sandybrown')\n",
        "\n",
        "plt.legend(loc='upper left')\n",
        "\n",
        "\n",
        "plt.xlabel(\"Fold\")\n",
        "plt.ylabel(\"F1 Score\")\n",
        "plt.show()"
      ]
    },
    {
      "cell_type": "markdown",
      "source": [
        "**Confusion Matrix**"
      ],
      "metadata": {
        "id": "2PThWpxoiObA"
      }
    },
    {
      "cell_type": "code",
      "execution_count": null,
      "metadata": {
        "colab": {
          "base_uri": "https://localhost:8080/",
          "height": 815
        },
        "id": "1S-H4nKvGrML",
        "outputId": "3b9e88b3-e88b-4c9f-a9ab-bf4555830a46"
      },
      "outputs": [
        {
          "output_type": "display_data",
          "data": {
            "text/plain": [
              "<Figure size 1000x1000 with 2 Axes>"
            ],
            "image/png": "[encoded data removed]"
          },
          "metadata": {}
        }
      ],
      "source": [
        "# Create the confusion matrix\n",
        "labels = [\"Not Visibile\",\"Poor\",\"Below Average\",\"Average\",\"Above Average\",\"Transparent\"]\n",
        "cm = metrics.confusion_matrix(y_test, y_pred)\n",
        "fig, ax = plt.subplots(figsize=(10, 10))\n",
        "disp = metrics.ConfusionMatrixDisplay(confusion_matrix=cm, display_labels=labels)\n",
        "disp.plot(ax=ax,cmap=\"YlGn\")\n",
        "plt.show()"
      ]
    },
    {
      "cell_type": "markdown",
      "source": [
        "**Accuracy Per Iterator Visualization**"
      ],
      "metadata": {
        "id": "xc2NZSGoiVM2"
      }
    },
    {
      "cell_type": "code",
      "execution_count": null,
      "metadata": {
        "id": "ln0RUP_CIPPU"
      },
      "outputs": [],
      "source": [
        "accuracy_growth = []\n",
        "for y_pred in gradient_booster.staged_predict(X_test):\n",
        "    accuracy_growth.append(metrics.accuracy_score(y_test, y_pred))"
      ]
    },
    {
      "cell_type": "code",
      "execution_count": null,
      "metadata": {
        "colab": {
          "base_uri": "https://localhost:8080/",
          "height": 449
        },
        "id": "0w-byRzwIRfH",
        "outputId": "638b8aff-46e5-44f5-de62-6f00af6013d4"
      },
      "outputs": [
        {
          "output_type": "display_data",
          "data": {
            "text/plain": [
              "<Figure size 640x480 with 1 Axes>"
            ],
            "image/png": "[encoded data removed]"
          },
          "metadata": {}
        }
      ],
      "source": [
        "plt.plot(accuracy_growth,color=\"yellowgreen\")\n",
        "plt.ylabel(\"Accuracy\")\n",
        "plt.xlabel(\"Decision Tree Iteration\")\n",
        "plt.show()"
      ]
    },
    {
      "cell_type": "markdown",
      "source": [
        "#**Multilayer Perceptron**"
      ],
      "metadata": {
        "id": "zqHoKQe_t9Bl"
      }
    },
    {
      "cell_type": "markdown",
      "source": [
        "##**Grid Search**"
      ],
      "metadata": {
        "id": "FQwNcf1XidZD"
      }
    },
    {
      "cell_type": "code",
      "execution_count": null,
      "metadata": {
        "id": "Is1q9ugQXSW9"
      },
      "outputs": [],
      "source": [
        "parameter_space = {\n",
        "    'hidden_layer_sizes': [(256,128,64),(128,64,32), (73,32,6),],\n",
        "    'activation': ['logistic', 'relu'],\n",
        "    'solver': ['sgd', 'adam'],\n",
        "    'alpha': [0.0001, 0.05],\n",
        "    'learning_rate': ['constant','adaptive'],\n",
        "    'learning_rate_init': [0.001, 0.0001]\n",
        "}"
      ]
    },
    {
      "cell_type": "code",
      "execution_count": null,
      "metadata": {
        "id": "s1_LSv4HXZTQ"
      },
      "outputs": [],
      "source": [
        "from sklearn.model_selection import GridSearchCV\n",
        "from sklearn.neural_network import MLPClassifier\n",
        "mlp = MLPClassifier(\n",
        "    hidden_layer_sizes=(256,128,64),\n",
        "    activation='relu',\n",
        "    solver='adam',\n",
        "    max_iter=1000,\n",
        "    early_stopping = True,\n",
        "    validation_fraction=0.1,\n",
        "    n_iter_no_change=10,\n",
        "    random_state=seed\n",
        "    )\n",
        "mlp\n",
        "clf = GridSearchCV(mlp, parameter_space, n_jobs=-1, cv=3)\n",
        "clf.fit(X_train, y_train)"
      ]
    },
    {
      "cell_type": "code",
      "execution_count": null,
      "metadata": {
        "id": "dcVKRWDUXcG-"
      },
      "outputs": [],
      "source": [
        "# Best paramete set\n",
        "print('Best parameters found:\\n', clf.best_params_)"
      ]
    },
    {
      "cell_type": "markdown",
      "source": [
        "##**MLP Training**"
      ],
      "metadata": {
        "id": "AwYcNG5E8XmK"
      }
    },
    {
      "cell_type": "code",
      "source": [
        "mlp = MLPClassifier(\n",
        "    hidden_layer_sizes=(256,128,64),\n",
        "    activation='relu',\n",
        "    solver='adam',\n",
        "    max_iter=1000,\n",
        "    early_stopping = True,\n",
        "    validation_fraction=0.1,\n",
        "    n_iter_no_change=10,\n",
        "    random_state=seed\n",
        "    )\n",
        "mlp"
      ],
      "metadata": {
        "colab": {
          "base_uri": "https://localhost:8080/",
          "height": 98
        },
        "id": "isMYw1igABaS",
        "outputId": "4cb80ae8-773b-47ef-981c-187345fb7f1b"
      },
      "execution_count": null,
      "outputs": [
        {
          "output_type": "execute_result",
          "data": {
            "text/plain": [
              "MLPClassifier(early_stopping=True, hidden_layer_sizes=(256, 128, 64),\n",
              "              max_iter=1000, random_state=42)"
            ],
            "text/html": [
              "<style>#sk-container-id-5 {\n",
              "  /* Definition of color scheme common for light and dark mode */\n",
              "  --sklearn-color-text: black;\n",
              "  --sklearn-color-line: gray;\n",
              "  /* Definition of color scheme for unfitted estimators */\n",
              "  --sklearn-color-unfitted-level-0: #fff5e6;\n",
              "  --sklearn-color-unfitted-level-1: #f6e4d2;\n",
              "  --sklearn-color-unfitted-level-2: #ffe0b3;\n",
              "  --sklearn-color-unfitted-level-3: chocolate;\n",
              "  /* Definition of color scheme for fitted estimators */\n",
              "  --sklearn-color-fitted-level-0: #f0f8ff;\n",
              "  --sklearn-color-fitted-level-1: #d4ebff;\n",
              "  --sklearn-color-fitted-level-2: #b3dbfd;\n",
              "  --sklearn-color-fitted-level-3: cornflowerblue;\n",
              "\n",
              "  /* Specific color for light theme */\n",
              "  --sklearn-color-text-on-default-background: var(--sg-text-color, var(--theme-code-foreground, var(--jp-content-font-color1, black)));\n",
              "  --sklearn-color-background: var(--sg-background-color, var(--theme-background, var(--jp-layout-color0, white)));\n",
              "  --sklearn-color-border-box: var(--sg-text-color, var(--theme-code-foreground, var(--jp-content-font-color1, black)));\n",
              "  --sklearn-color-icon: #696969;\n",
              "\n",
              "  @media (prefers-color-scheme: dark) {\n",
              "    /* Redefinition of color scheme for dark theme */\n",
              "    --sklearn-color-text-on-default-background: var(--sg-text-color, var(--theme-code-foreground, var(--jp-content-font-color1, white)));\n",
              "    --sklearn-color-background: var(--sg-background-color, var(--theme-background, var(--jp-layout-color0, #111)));\n",
              "    --sklearn-color-border-box: var(--sg-text-color, var(--theme-code-foreground, var(--jp-content-font-color1, white)));\n",
              "    --sklearn-color-icon: #878787;\n",
              "  }\n",
              "}\n",
              "\n",
              "#sk-container-id-5 {\n",
              "  color: var(--sklearn-color-text);\n",
              "}\n",
              "\n",
              "#sk-container-id-5 pre {\n",
              "  padding: 0;\n",
              "}\n",
              "\n",
              "#sk-container-id-5 input.sk-hidden--visually {\n",
              "  border: 0;\n",
              "  clip: rect(1px 1px 1px 1px);\n",
              "  clip: rect(1px, 1px, 1px, 1px);\n",
              "  height: 1px;\n",
              "  margin: -1px;\n",
              "  overflow: hidden;\n",
              "  padding: 0;\n",
              "  position: absolute;\n",
              "  width: 1px;\n",
              "}\n",
              "\n",
              "#sk-container-id-5 div.sk-dashed-wrapped {\n",
              "  border: 1px dashed var(--sklearn-color-line);\n",
              "  margin: 0 0.4em 0.5em 0.4em;\n",
              "  box-sizing: border-box;\n",
              "  padding-bottom: 0.4em;\n",
              "  background-color: var(--sklearn-color-background);\n",
              "}\n",
              "\n",
              "#sk-container-id-5 div.sk-container {\n",
              "  /* jupyter's `normalize.less` sets `[hidden] { display: none; }`\n",
              "     but bootstrap.min.css set `[hidden] { display: none !important; }`\n",
              "     so we also need the `!important` here to be able to override the\n",
              "     default hidden behavior on the sphinx rendered scikit-learn.org.\n",
              "     See: https://github.com/scikit-learn/scikit-learn/issues/21755 */\n",
              "  display: inline-block !important;\n",
              "  position: relative;\n",
              "}\n",
              "\n",
              "#sk-container-id-5 div.sk-text-repr-fallback {\n",
              "  display: none;\n",
              "}\n",
              "\n",
              "div.sk-parallel-item,\n",
              "div.sk-serial,\n",
              "div.sk-item {\n",
              "  /* draw centered vertical line to link estimators */\n",
              "  background-image: linear-gradient(var(--sklearn-color-text-on-default-background), var(--sklearn-color-text-on-default-background));\n",
              "  background-size: 2px 100%;\n",
              "  background-repeat: no-repeat;\n",
              "  background-position: center center;\n",
              "}\n",
              "\n",
              "/* Parallel-specific style estimator block */\n",
              "\n",
              "#sk-container-id-5 div.sk-parallel-item::after {\n",
              "  content: \"\";\n",
              "  width: 100%;\n",
              "  border-bottom: 2px solid var(--sklearn-color-text-on-default-background);\n",
              "  flex-grow: 1;\n",
              "}\n",
              "\n",
              "#sk-container-id-5 div.sk-parallel {\n",
              "  display: flex;\n",
              "  align-items: stretch;\n",
              "  justify-content: center;\n",
              "  background-color: var(--sklearn-color-background);\n",
              "  position: relative;\n",
              "}\n",
              "\n",
              "#sk-container-id-5 div.sk-parallel-item {\n",
              "  display: flex;\n",
              "  flex-direction: column;\n",
              "}\n",
              "\n",
              "#sk-container-id-5 div.sk-parallel-item:first-child::after {\n",
              "  align-self: flex-end;\n",
              "  width: 50%;\n",
              "}\n",
              "\n",
              "#sk-container-id-5 div.sk-parallel-item:last-child::after {\n",
              "  align-self: flex-start;\n",
              "  width: 50%;\n",
              "}\n",
              "\n",
              "#sk-container-id-5 div.sk-parallel-item:only-child::after {\n",
              "  width: 0;\n",
              "}\n",
              "\n",
              "/* Serial-specific style estimator block */\n",
              "\n",
              "#sk-container-id-5 div.sk-serial {\n",
              "  display: flex;\n",
              "  flex-direction: column;\n",
              "  align-items: center;\n",
              "  background-color: var(--sklearn-color-background);\n",
              "  padding-right: 1em;\n",
              "  padding-left: 1em;\n",
              "}\n",
              "\n",
              "\n",
              "/* Toggleable style: style used for estimator/Pipeline/ColumnTransformer box that is\n",
              "clickable and can be expanded/collapsed.\n",
              "- Pipeline and ColumnTransformer use this feature and define the default style\n",
              "- Estimators will overwrite some part of the style using the `sk-estimator` class\n",
              "*/\n",
              "\n",
              "/* Pipeline and ColumnTransformer style (default) */\n",
              "\n",
              "#sk-container-id-5 div.sk-toggleable {\n",
              "  /* Default theme specific background. It is overwritten whether we have a\n",
              "  specific estimator or a Pipeline/ColumnTransformer */\n",
              "  background-color: var(--sklearn-color-background);\n",
              "}\n",
              "\n",
              "/* Toggleable label */\n",
              "#sk-container-id-5 label.sk-toggleable__label {\n",
              "  cursor: pointer;\n",
              "  display: block;\n",
              "  width: 100%;\n",
              "  margin-bottom: 0;\n",
              "  padding: 0.5em;\n",
              "  box-sizing: border-box;\n",
              "  text-align: center;\n",
              "}\n",
              "\n",
              "#sk-container-id-5 label.sk-toggleable__label-arrow:before {\n",
              "  /* Arrow on the left of the label */\n",
              "  content: \"▸\";\n",
              "  float: left;\n",
              "  margin-right: 0.25em;\n",
              "  color: var(--sklearn-color-icon);\n",
              "}\n",
              "\n",
              "#sk-container-id-5 label.sk-toggleable__label-arrow:hover:before {\n",
              "  color: var(--sklearn-color-text);\n",
              "}\n",
              "\n",
              "/* Toggleable content - dropdown */\n",
              "\n",
              "#sk-container-id-5 div.sk-toggleable__content {\n",
              "  max-height: 0;\n",
              "  max-width: 0;\n",
              "  overflow: hidden;\n",
              "  text-align: left;\n",
              "  /* unfitted */\n",
              "  background-color: var(--sklearn-color-unfitted-level-0);\n",
              "}\n",
              "\n",
              "#sk-container-id-5 div.sk-toggleable__content.fitted {\n",
              "  /* fitted */\n",
              "  background-color: var(--sklearn-color-fitted-level-0);\n",
              "}\n",
              "\n",
              "#sk-container-id-5 div.sk-toggleable__content pre {\n",
              "  margin: 0.2em;\n",
              "  border-radius: 0.25em;\n",
              "  color: var(--sklearn-color-text);\n",
              "  /* unfitted */\n",
              "  background-color: var(--sklearn-color-unfitted-level-0);\n",
              "}\n",
              "\n",
              "#sk-container-id-5 div.sk-toggleable__content.fitted pre {\n",
              "  /* unfitted */\n",
              "  background-color: var(--sklearn-color-fitted-level-0);\n",
              "}\n",
              "\n",
              "#sk-container-id-5 input.sk-toggleable__control:checked~div.sk-toggleable__content {\n",
              "  /* Expand drop-down */\n",
              "  max-height: 200px;\n",
              "  max-width: 100%;\n",
              "  overflow: auto;\n",
              "}\n",
              "\n",
              "#sk-container-id-5 input.sk-toggleable__control:checked~label.sk-toggleable__label-arrow:before {\n",
              "  content: \"▾\";\n",
              "}\n",
              "\n",
              "/* Pipeline/ColumnTransformer-specific style */\n",
              "\n",
              "#sk-container-id-5 div.sk-label input.sk-toggleable__control:checked~label.sk-toggleable__label {\n",
              "  color: var(--sklearn-color-text);\n",
              "  background-color: var(--sklearn-color-unfitted-level-2);\n",
              "}\n",
              "\n",
              "#sk-container-id-5 div.sk-label.fitted input.sk-toggleable__control:checked~label.sk-toggleable__label {\n",
              "  background-color: var(--sklearn-color-fitted-level-2);\n",
              "}\n",
              "\n",
              "/* Estimator-specific style */\n",
              "\n",
              "/* Colorize estimator box */\n",
              "#sk-container-id-5 div.sk-estimator input.sk-toggleable__control:checked~label.sk-toggleable__label {\n",
              "  /* unfitted */\n",
              "  background-color: var(--sklearn-color-unfitted-level-2);\n",
              "}\n",
              "\n",
              "#sk-container-id-5 div.sk-estimator.fitted input.sk-toggleable__control:checked~label.sk-toggleable__label {\n",
              "  /* fitted */\n",
              "  background-color: var(--sklearn-color-fitted-level-2);\n",
              "}\n",
              "\n",
              "#sk-container-id-5 div.sk-label label.sk-toggleable__label,\n",
              "#sk-container-id-5 div.sk-label label {\n",
              "  /* The background is the default theme color */\n",
              "  color: var(--sklearn-color-text-on-default-background);\n",
              "}\n",
              "\n",
              "/* On hover, darken the color of the background */\n",
              "#sk-container-id-5 div.sk-label:hover label.sk-toggleable__label {\n",
              "  color: var(--sklearn-color-text);\n",
              "  background-color: var(--sklearn-color-unfitted-level-2);\n",
              "}\n",
              "\n",
              "/* Label box, darken color on hover, fitted */\n",
              "#sk-container-id-5 div.sk-label.fitted:hover label.sk-toggleable__label.fitted {\n",
              "  color: var(--sklearn-color-text);\n",
              "  background-color: var(--sklearn-color-fitted-level-2);\n",
              "}\n",
              "\n",
              "/* Estimator label */\n",
              "\n",
              "#sk-container-id-5 div.sk-label label {\n",
              "  font-family: monospace;\n",
              "  font-weight: bold;\n",
              "  display: inline-block;\n",
              "  line-height: 1.2em;\n",
              "}\n",
              "\n",
              "#sk-container-id-5 div.sk-label-container {\n",
              "  text-align: center;\n",
              "}\n",
              "\n",
              "/* Estimator-specific */\n",
              "#sk-container-id-5 div.sk-estimator {\n",
              "  font-family: monospace;\n",
              "  border: 1px dotted var(--sklearn-color-border-box);\n",
              "  border-radius: 0.25em;\n",
              "  box-sizing: border-box;\n",
              "  margin-bottom: 0.5em;\n",
              "  /* unfitted */\n",
              "  background-color: var(--sklearn-color-unfitted-level-0);\n",
              "}\n",
              "\n",
              "#sk-container-id-5 div.sk-estimator.fitted {\n",
              "  /* fitted */\n",
              "  background-color: var(--sklearn-color-fitted-level-0);\n",
              "}\n",
              "\n",
              "/* on hover */\n",
              "#sk-container-id-5 div.sk-estimator:hover {\n",
              "  /* unfitted */\n",
              "  background-color: var(--sklearn-color-unfitted-level-2);\n",
              "}\n",
              "\n",
              "#sk-container-id-5 div.sk-estimator.fitted:hover {\n",
              "  /* fitted */\n",
              "  background-color: var(--sklearn-color-fitted-level-2);\n",
              "}\n",
              "\n",
              "/* Specification for estimator info (e.g. \"i\" and \"?\") */\n",
              "\n",
              "/* Common style for \"i\" and \"?\" */\n",
              "\n",
              ".sk-estimator-doc-link,\n",
              "a:link.sk-estimator-doc-link,\n",
              "a:visited.sk-estimator-doc-link {\n",
              "  float: right;\n",
              "  font-size: smaller;\n",
              "  line-height: 1em;\n",
              "  font-family: monospace;\n",
              "  background-color: var(--sklearn-color-background);\n",
              "  border-radius: 1em;\n",
              "  height: 1em;\n",
              "  width: 1em;\n",
              "  text-decoration: none !important;\n",
              "  margin-left: 1ex;\n",
              "  /* unfitted */\n",
              "  border: var(--sklearn-color-unfitted-level-1) 1pt solid;\n",
              "  color: var(--sklearn-color-unfitted-level-1);\n",
              "}\n",
              "\n",
              ".sk-estimator-doc-link.fitted,\n",
              "a:link.sk-estimator-doc-link.fitted,\n",
              "a:visited.sk-estimator-doc-link.fitted {\n",
              "  /* fitted */\n",
              "  border: var(--sklearn-color-fitted-level-1) 1pt solid;\n",
              "  color: var(--sklearn-color-fitted-level-1);\n",
              "}\n",
              "\n",
              "/* On hover */\n",
              "div.sk-estimator:hover .sk-estimator-doc-link:hover,\n",
              ".sk-estimator-doc-link:hover,\n",
              "div.sk-label-container:hover .sk-estimator-doc-link:hover,\n",
              ".sk-estimator-doc-link:hover {\n",
              "  /* unfitted */\n",
              "  background-color: var(--sklearn-color-unfitted-level-3);\n",
              "  color: var(--sklearn-color-background);\n",
              "  text-decoration: none;\n",
              "}\n",
              "\n",
              "div.sk-estimator.fitted:hover .sk-estimator-doc-link.fitted:hover,\n",
              ".sk-estimator-doc-link.fitted:hover,\n",
              "div.sk-label-container:hover .sk-estimator-doc-link.fitted:hover,\n",
              ".sk-estimator-doc-link.fitted:hover {\n",
              "  /* fitted */\n",
              "  background-color: var(--sklearn-color-fitted-level-3);\n",
              "  color: var(--sklearn-color-background);\n",
              "  text-decoration: none;\n",
              "}\n",
              "\n",
              "/* Span, style for the box shown on hovering the info icon */\n",
              ".sk-estimator-doc-link span {\n",
              "  display: none;\n",
              "  z-index: 9999;\n",
              "  position: relative;\n",
              "  font-weight: normal;\n",
              "  right: .2ex;\n",
              "  padding: .5ex;\n",
              "  margin: .5ex;\n",
              "  width: min-content;\n",
              "  min-width: 20ex;\n",
              "  max-width: 50ex;\n",
              "  color: var(--sklearn-color-text);\n",
              "  box-shadow: 2pt 2pt 4pt #999;\n",
              "  /* unfitted */\n",
              "  background: var(--sklearn-color-unfitted-level-0);\n",
              "  border: .5pt solid var(--sklearn-color-unfitted-level-3);\n",
              "}\n",
              "\n",
              ".sk-estimator-doc-link.fitted span {\n",
              "  /* fitted */\n",
              "  background: var(--sklearn-color-fitted-level-0);\n",
              "  border: var(--sklearn-color-fitted-level-3);\n",
              "}\n",
              "\n",
              ".sk-estimator-doc-link:hover span {\n",
              "  display: block;\n",
              "}\n",
              "\n",
              "/* \"?\"-specific style due to the `<a>` HTML tag */\n",
              "\n",
              "#sk-container-id-5 a.estimator_doc_link {\n",
              "  float: right;\n",
              "  font-size: 1rem;\n",
              "  line-height: 1em;\n",
              "  font-family: monospace;\n",
              "  background-color: var(--sklearn-color-background);\n",
              "  border-radius: 1rem;\n",
              "  height: 1rem;\n",
              "  width: 1rem;\n",
              "  text-decoration: none;\n",
              "  /* unfitted */\n",
              "  color: var(--sklearn-color-unfitted-level-1);\n",
              "  border: var(--sklearn-color-unfitted-level-1) 1pt solid;\n",
              "}\n",
              "\n",
              "#sk-container-id-5 a.estimator_doc_link.fitted {\n",
              "  /* fitted */\n",
              "  border: var(--sklearn-color-fitted-level-1) 1pt solid;\n",
              "  color: var(--sklearn-color-fitted-level-1);\n",
              "}\n",
              "\n",
              "/* On hover */\n",
              "#sk-container-id-5 a.estimator_doc_link:hover {\n",
              "  /* unfitted */\n",
              "  background-color: var(--sklearn-color-unfitted-level-3);\n",
              "  color: var(--sklearn-color-background);\n",
              "  text-decoration: none;\n",
              "}\n",
              "\n",
              "#sk-container-id-5 a.estimator_doc_link.fitted:hover {\n",
              "  /* fitted */\n",
              "  background-color: var(--sklearn-color-fitted-level-3);\n",
              "}\n",
              "</style><div id=\"sk-container-id-5\" class=\"sk-top-container\"><div class=\"sk-text-repr-fallback\"><pre>MLPClassifier(early_stopping=True, hidden_layer_sizes=(256, 128, 64),\n",
              "              max_iter=1000, random_state=42)</pre><b>In a Jupyter environment, please rerun this cell to show the HTML representation or trust the notebook. <br />On GitHub, the HTML representation is unable to render, please try loading this page with nbviewer.org.</b></div><div class=\"sk-container\" hidden><div class=\"sk-item\"><div class=\"sk-estimator  sk-toggleable\"><input class=\"sk-toggleable__control sk-hidden--visually\" id=\"sk-estimator-id-5\" type=\"checkbox\" checked><label for=\"sk-estimator-id-5\" class=\"sk-toggleable__label  sk-toggleable__label-arrow \">&nbsp;&nbsp;MLPClassifier<a class=\"sk-estimator-doc-link \" rel=\"noreferrer\" target=\"_blank\" href=\"https://scikit-learn.org/1.5/modules/generated/sklearn.neural_network.MLPClassifier.html\">?<span>Documentation for MLPClassifier</span></a><span class=\"sk-estimator-doc-link \">i<span>Not fitted</span></span></label><div class=\"sk-toggleable__content \"><pre>MLPClassifier(early_stopping=True, hidden_layer_sizes=(256, 128, 64),\n",
              "              max_iter=1000, random_state=42)</pre></div> </div></div></div></div>"
            ]
          },
          "metadata": {},
          "execution_count": 75
        }
      ]
    },
    {
      "cell_type": "code",
      "source": [
        "#Reset Train Test Split\n",
        "X_train, X_test, y_train, y_test = train_test_split(\n",
        "    attributes_normal, target.values, test_size=0.3, stratify=target.values, random_state=seed)\n",
        "oversampler = RandomOverSampler(random_state=seed)\n",
        "X_train, y_train = oversampler.fit_resample(X_train, y_train)"
      ],
      "metadata": {
        "id": "VqhGgvGm92O_"
      },
      "execution_count": null,
      "outputs": []
    },
    {
      "cell_type": "markdown",
      "source": [
        "###**K-Fold Validation**"
      ],
      "metadata": {
        "id": "dcEJ7-HfjOKT"
      }
    },
    {
      "cell_type": "code",
      "execution_count": null,
      "metadata": {
        "colab": {
          "background_save": true
        },
        "id": "f_PTF7NPiwD3"
      },
      "outputs": [],
      "source": [
        "#Kfold Validation Training\n",
        "start_time = time.time()\n",
        "k_fold_mlp, mlp_models = kfold_validate(10,mlp,X_train,X_test,y_train,y_test)\n",
        "#Get End Time\n",
        "end_time = time.time()\n",
        "#Get Total Training Time\n",
        "training_time = end_time - start_time\n",
        "print(\"Training Time:\",training_time)\n",
        "k_fold_mlp"
      ]
    },
    {
      "cell_type": "code",
      "source": [
        "#Get Average Accuracy of KFold Models\n",
        "get_kfold_avg(k_fold_mlp)"
      ],
      "metadata": {
        "id": "Az1h2UxHwWtV"
      },
      "execution_count": null,
      "outputs": []
    },
    {
      "cell_type": "code",
      "source": [
        "#Get Number of Epochs per K-Fold Model\n",
        "for i in range(len(mlp_models)):\n",
        "  print(mlp_models[i].n_iter_)"
      ],
      "metadata": {
        "id": "qKHcjh-SyOfG"
      },
      "execution_count": null,
      "outputs": []
    },
    {
      "cell_type": "markdown",
      "source": [
        "###**Train Model**"
      ],
      "metadata": {
        "id": "8f0nLZajjSw0"
      }
    },
    {
      "cell_type": "code",
      "execution_count": null,
      "metadata": {
        "colab": {
          "base_uri": "https://localhost:8080/"
        },
        "id": "vTtcCrCzXhgx",
        "outputId": "24451150-a25c-4567-89cf-c160c15fbee2"
      },
      "outputs": [
        {
          "output_type": "stream",
          "name": "stdout",
          "text": [
            "Training Time: 40.63346743583679\n",
            "121\n"
          ]
        }
      ],
      "source": [
        "#Get Start Time\n",
        "start_time = time.time()\n",
        "#Train Model\n",
        "mlp.fit(X_train, y_train)\n",
        "#Get End Time\n",
        "end_time = time.time()\n",
        "#Get Total Training Time\n",
        "training_time = end_time - start_time\n",
        "print(\"Training Time:\",training_time)\n",
        "#Show Number of Iterations\n",
        "print(mlp.n_iter_)"
      ]
    },
    {
      "cell_type": "markdown",
      "source": [
        "###**Model Validation**"
      ],
      "metadata": {
        "id": "Z8qCJmXojhSy"
      }
    },
    {
      "cell_type": "markdown",
      "source": [
        "**Make Predictions**"
      ],
      "metadata": {
        "id": "_jqTYjTKjaOa"
      }
    },
    {
      "cell_type": "code",
      "execution_count": null,
      "metadata": {
        "id": "QzGsiv0cXjCt"
      },
      "outputs": [],
      "source": [
        "y_pred = mlp.predict(X_test)"
      ]
    },
    {
      "cell_type": "code",
      "execution_count": null,
      "metadata": {
        "colab": {
          "base_uri": "https://localhost:8080/"
        },
        "id": "E7OO96M_X0o9",
        "outputId": "3ab968f2-5e17-4814-9211-31bef39ccfa4"
      },
      "outputs": [
        {
          "output_type": "stream",
          "name": "stdout",
          "text": [
            "Accuracy:  70.5710102489019\n",
            "              precision    recall  f1-score   support\n",
            "\n",
            "           0       0.74      0.79      0.77       560\n",
            "           1       0.30      0.33      0.32       126\n",
            "           2       0.54      0.49      0.51       363\n",
            "           3       0.67      0.60      0.64       451\n",
            "           4       0.69      0.71      0.70       551\n",
            "           5       0.87      0.88      0.87       681\n",
            "\n",
            "    accuracy                           0.71      2732\n",
            "   macro avg       0.64      0.64      0.63      2732\n",
            "weighted avg       0.70      0.71      0.70      2732\n",
            "\n"
          ]
        }
      ],
      "source": [
        "get_accuracy_table(y_test,y_pred)"
      ]
    },
    {
      "cell_type": "markdown",
      "source": [
        "##**MLP Visualizations**"
      ],
      "metadata": {
        "id": "3i99H2JOjs-p"
      }
    },
    {
      "cell_type": "markdown",
      "source": [
        "Recreate Model with Optimized hyperparamaters for visualization"
      ],
      "metadata": {
        "id": "LKQakcdBjx82"
      }
    },
    {
      "cell_type": "code",
      "execution_count": null,
      "metadata": {
        "colab": {
          "base_uri": "https://localhost:8080/",
          "height": 80
        },
        "id": "jMhN6QTrgWRb",
        "outputId": "5b88a48e-517d-4f45-f9f0-1dc2a46310fd"
      },
      "outputs": [
        {
          "output_type": "execute_result",
          "data": {
            "text/plain": [
              "MLPClassifier(hidden_layer_sizes=(256, 128, 64), max_iter=1000, random_state=42)"
            ],
            "text/html": [
              "<style>#sk-container-id-3 {\n",
              "  /* Definition of color scheme common for light and dark mode */\n",
              "  --sklearn-color-text: black;\n",
              "  --sklearn-color-line: gray;\n",
              "  /* Definition of color scheme for unfitted estimators */\n",
              "  --sklearn-color-unfitted-level-0: #fff5e6;\n",
              "  --sklearn-color-unfitted-level-1: #f6e4d2;\n",
              "  --sklearn-color-unfitted-level-2: #ffe0b3;\n",
              "  --sklearn-color-unfitted-level-3: chocolate;\n",
              "  /* Definition of color scheme for fitted estimators */\n",
              "  --sklearn-color-fitted-level-0: #f0f8ff;\n",
              "  --sklearn-color-fitted-level-1: #d4ebff;\n",
              "  --sklearn-color-fitted-level-2: #b3dbfd;\n",
              "  --sklearn-color-fitted-level-3: cornflowerblue;\n",
              "\n",
              "  /* Specific color for light theme */\n",
              "  --sklearn-color-text-on-default-background: var(--sg-text-color, var(--theme-code-foreground, var(--jp-content-font-color1, black)));\n",
              "  --sklearn-color-background: var(--sg-background-color, var(--theme-background, var(--jp-layout-color0, white)));\n",
              "  --sklearn-color-border-box: var(--sg-text-color, var(--theme-code-foreground, var(--jp-content-font-color1, black)));\n",
              "  --sklearn-color-icon: #696969;\n",
              "\n",
              "  @media (prefers-color-scheme: dark) {\n",
              "    /* Redefinition of color scheme for dark theme */\n",
              "    --sklearn-color-text-on-default-background: var(--sg-text-color, var(--theme-code-foreground, var(--jp-content-font-color1, white)));\n",
              "    --sklearn-color-background: var(--sg-background-color, var(--theme-background, var(--jp-layout-color0, #111)));\n",
              "    --sklearn-color-border-box: var(--sg-text-color, var(--theme-code-foreground, var(--jp-content-font-color1, white)));\n",
              "    --sklearn-color-icon: #878787;\n",
              "  }\n",
              "}\n",
              "\n",
              "#sk-container-id-3 {\n",
              "  color: var(--sklearn-color-text);\n",
              "}\n",
              "\n",
              "#sk-container-id-3 pre {\n",
              "  padding: 0;\n",
              "}\n",
              "\n",
              "#sk-container-id-3 input.sk-hidden--visually {\n",
              "  border: 0;\n",
              "  clip: rect(1px 1px 1px 1px);\n",
              "  clip: rect(1px, 1px, 1px, 1px);\n",
              "  height: 1px;\n",
              "  margin: -1px;\n",
              "  overflow: hidden;\n",
              "  padding: 0;\n",
              "  position: absolute;\n",
              "  width: 1px;\n",
              "}\n",
              "\n",
              "#sk-container-id-3 div.sk-dashed-wrapped {\n",
              "  border: 1px dashed var(--sklearn-color-line);\n",
              "  margin: 0 0.4em 0.5em 0.4em;\n",
              "  box-sizing: border-box;\n",
              "  padding-bottom: 0.4em;\n",
              "  background-color: var(--sklearn-color-background);\n",
              "}\n",
              "\n",
              "#sk-container-id-3 div.sk-container {\n",
              "  /* jupyter's `normalize.less` sets `[hidden] { display: none; }`\n",
              "     but bootstrap.min.css set `[hidden] { display: none !important; }`\n",
              "     so we also need the `!important` here to be able to override the\n",
              "     default hidden behavior on the sphinx rendered scikit-learn.org.\n",
              "     See: https://github.com/scikit-learn/scikit-learn/issues/21755 */\n",
              "  display: inline-block !important;\n",
              "  position: relative;\n",
              "}\n",
              "\n",
              "#sk-container-id-3 div.sk-text-repr-fallback {\n",
              "  display: none;\n",
              "}\n",
              "\n",
              "div.sk-parallel-item,\n",
              "div.sk-serial,\n",
              "div.sk-item {\n",
              "  /* draw centered vertical line to link estimators */\n",
              "  background-image: linear-gradient(var(--sklearn-color-text-on-default-background), var(--sklearn-color-text-on-default-background));\n",
              "  background-size: 2px 100%;\n",
              "  background-repeat: no-repeat;\n",
              "  background-position: center center;\n",
              "}\n",
              "\n",
              "/* Parallel-specific style estimator block */\n",
              "\n",
              "#sk-container-id-3 div.sk-parallel-item::after {\n",
              "  content: \"\";\n",
              "  width: 100%;\n",
              "  border-bottom: 2px solid var(--sklearn-color-text-on-default-background);\n",
              "  flex-grow: 1;\n",
              "}\n",
              "\n",
              "#sk-container-id-3 div.sk-parallel {\n",
              "  display: flex;\n",
              "  align-items: stretch;\n",
              "  justify-content: center;\n",
              "  background-color: var(--sklearn-color-background);\n",
              "  position: relative;\n",
              "}\n",
              "\n",
              "#sk-container-id-3 div.sk-parallel-item {\n",
              "  display: flex;\n",
              "  flex-direction: column;\n",
              "}\n",
              "\n",
              "#sk-container-id-3 div.sk-parallel-item:first-child::after {\n",
              "  align-self: flex-end;\n",
              "  width: 50%;\n",
              "}\n",
              "\n",
              "#sk-container-id-3 div.sk-parallel-item:last-child::after {\n",
              "  align-self: flex-start;\n",
              "  width: 50%;\n",
              "}\n",
              "\n",
              "#sk-container-id-3 div.sk-parallel-item:only-child::after {\n",
              "  width: 0;\n",
              "}\n",
              "\n",
              "/* Serial-specific style estimator block */\n",
              "\n",
              "#sk-container-id-3 div.sk-serial {\n",
              "  display: flex;\n",
              "  flex-direction: column;\n",
              "  align-items: center;\n",
              "  background-color: var(--sklearn-color-background);\n",
              "  padding-right: 1em;\n",
              "  padding-left: 1em;\n",
              "}\n",
              "\n",
              "\n",
              "/* Toggleable style: style used for estimator/Pipeline/ColumnTransformer box that is\n",
              "clickable and can be expanded/collapsed.\n",
              "- Pipeline and ColumnTransformer use this feature and define the default style\n",
              "- Estimators will overwrite some part of the style using the `sk-estimator` class\n",
              "*/\n",
              "\n",
              "/* Pipeline and ColumnTransformer style (default) */\n",
              "\n",
              "#sk-container-id-3 div.sk-toggleable {\n",
              "  /* Default theme specific background. It is overwritten whether we have a\n",
              "  specific estimator or a Pipeline/ColumnTransformer */\n",
              "  background-color: var(--sklearn-color-background);\n",
              "}\n",
              "\n",
              "/* Toggleable label */\n",
              "#sk-container-id-3 label.sk-toggleable__label {\n",
              "  cursor: pointer;\n",
              "  display: block;\n",
              "  width: 100%;\n",
              "  margin-bottom: 0;\n",
              "  padding: 0.5em;\n",
              "  box-sizing: border-box;\n",
              "  text-align: center;\n",
              "}\n",
              "\n",
              "#sk-container-id-3 label.sk-toggleable__label-arrow:before {\n",
              "  /* Arrow on the left of the label */\n",
              "  content: \"▸\";\n",
              "  float: left;\n",
              "  margin-right: 0.25em;\n",
              "  color: var(--sklearn-color-icon);\n",
              "}\n",
              "\n",
              "#sk-container-id-3 label.sk-toggleable__label-arrow:hover:before {\n",
              "  color: var(--sklearn-color-text);\n",
              "}\n",
              "\n",
              "/* Toggleable content - dropdown */\n",
              "\n",
              "#sk-container-id-3 div.sk-toggleable__content {\n",
              "  max-height: 0;\n",
              "  max-width: 0;\n",
              "  overflow: hidden;\n",
              "  text-align: left;\n",
              "  /* unfitted */\n",
              "  background-color: var(--sklearn-color-unfitted-level-0);\n",
              "}\n",
              "\n",
              "#sk-container-id-3 div.sk-toggleable__content.fitted {\n",
              "  /* fitted */\n",
              "  background-color: var(--sklearn-color-fitted-level-0);\n",
              "}\n",
              "\n",
              "#sk-container-id-3 div.sk-toggleable__content pre {\n",
              "  margin: 0.2em;\n",
              "  border-radius: 0.25em;\n",
              "  color: var(--sklearn-color-text);\n",
              "  /* unfitted */\n",
              "  background-color: var(--sklearn-color-unfitted-level-0);\n",
              "}\n",
              "\n",
              "#sk-container-id-3 div.sk-toggleable__content.fitted pre {\n",
              "  /* unfitted */\n",
              "  background-color: var(--sklearn-color-fitted-level-0);\n",
              "}\n",
              "\n",
              "#sk-container-id-3 input.sk-toggleable__control:checked~div.sk-toggleable__content {\n",
              "  /* Expand drop-down */\n",
              "  max-height: 200px;\n",
              "  max-width: 100%;\n",
              "  overflow: auto;\n",
              "}\n",
              "\n",
              "#sk-container-id-3 input.sk-toggleable__control:checked~label.sk-toggleable__label-arrow:before {\n",
              "  content: \"▾\";\n",
              "}\n",
              "\n",
              "/* Pipeline/ColumnTransformer-specific style */\n",
              "\n",
              "#sk-container-id-3 div.sk-label input.sk-toggleable__control:checked~label.sk-toggleable__label {\n",
              "  color: var(--sklearn-color-text);\n",
              "  background-color: var(--sklearn-color-unfitted-level-2);\n",
              "}\n",
              "\n",
              "#sk-container-id-3 div.sk-label.fitted input.sk-toggleable__control:checked~label.sk-toggleable__label {\n",
              "  background-color: var(--sklearn-color-fitted-level-2);\n",
              "}\n",
              "\n",
              "/* Estimator-specific style */\n",
              "\n",
              "/* Colorize estimator box */\n",
              "#sk-container-id-3 div.sk-estimator input.sk-toggleable__control:checked~label.sk-toggleable__label {\n",
              "  /* unfitted */\n",
              "  background-color: var(--sklearn-color-unfitted-level-2);\n",
              "}\n",
              "\n",
              "#sk-container-id-3 div.sk-estimator.fitted input.sk-toggleable__control:checked~label.sk-toggleable__label {\n",
              "  /* fitted */\n",
              "  background-color: var(--sklearn-color-fitted-level-2);\n",
              "}\n",
              "\n",
              "#sk-container-id-3 div.sk-label label.sk-toggleable__label,\n",
              "#sk-container-id-3 div.sk-label label {\n",
              "  /* The background is the default theme color */\n",
              "  color: var(--sklearn-color-text-on-default-background);\n",
              "}\n",
              "\n",
              "/* On hover, darken the color of the background */\n",
              "#sk-container-id-3 div.sk-label:hover label.sk-toggleable__label {\n",
              "  color: var(--sklearn-color-text);\n",
              "  background-color: var(--sklearn-color-unfitted-level-2);\n",
              "}\n",
              "\n",
              "/* Label box, darken color on hover, fitted */\n",
              "#sk-container-id-3 div.sk-label.fitted:hover label.sk-toggleable__label.fitted {\n",
              "  color: var(--sklearn-color-text);\n",
              "  background-color: var(--sklearn-color-fitted-level-2);\n",
              "}\n",
              "\n",
              "/* Estimator label */\n",
              "\n",
              "#sk-container-id-3 div.sk-label label {\n",
              "  font-family: monospace;\n",
              "  font-weight: bold;\n",
              "  display: inline-block;\n",
              "  line-height: 1.2em;\n",
              "}\n",
              "\n",
              "#sk-container-id-3 div.sk-label-container {\n",
              "  text-align: center;\n",
              "}\n",
              "\n",
              "/* Estimator-specific */\n",
              "#sk-container-id-3 div.sk-estimator {\n",
              "  font-family: monospace;\n",
              "  border: 1px dotted var(--sklearn-color-border-box);\n",
              "  border-radius: 0.25em;\n",
              "  box-sizing: border-box;\n",
              "  margin-bottom: 0.5em;\n",
              "  /* unfitted */\n",
              "  background-color: var(--sklearn-color-unfitted-level-0);\n",
              "}\n",
              "\n",
              "#sk-container-id-3 div.sk-estimator.fitted {\n",
              "  /* fitted */\n",
              "  background-color: var(--sklearn-color-fitted-level-0);\n",
              "}\n",
              "\n",
              "/* on hover */\n",
              "#sk-container-id-3 div.sk-estimator:hover {\n",
              "  /* unfitted */\n",
              "  background-color: var(--sklearn-color-unfitted-level-2);\n",
              "}\n",
              "\n",
              "#sk-container-id-3 div.sk-estimator.fitted:hover {\n",
              "  /* fitted */\n",
              "  background-color: var(--sklearn-color-fitted-level-2);\n",
              "}\n",
              "\n",
              "/* Specification for estimator info (e.g. \"i\" and \"?\") */\n",
              "\n",
              "/* Common style for \"i\" and \"?\" */\n",
              "\n",
              ".sk-estimator-doc-link,\n",
              "a:link.sk-estimator-doc-link,\n",
              "a:visited.sk-estimator-doc-link {\n",
              "  float: right;\n",
              "  font-size: smaller;\n",
              "  line-height: 1em;\n",
              "  font-family: monospace;\n",
              "  background-color: var(--sklearn-color-background);\n",
              "  border-radius: 1em;\n",
              "  height: 1em;\n",
              "  width: 1em;\n",
              "  text-decoration: none !important;\n",
              "  margin-left: 1ex;\n",
              "  /* unfitted */\n",
              "  border: var(--sklearn-color-unfitted-level-1) 1pt solid;\n",
              "  color: var(--sklearn-color-unfitted-level-1);\n",
              "}\n",
              "\n",
              ".sk-estimator-doc-link.fitted,\n",
              "a:link.sk-estimator-doc-link.fitted,\n",
              "a:visited.sk-estimator-doc-link.fitted {\n",
              "  /* fitted */\n",
              "  border: var(--sklearn-color-fitted-level-1) 1pt solid;\n",
              "  color: var(--sklearn-color-fitted-level-1);\n",
              "}\n",
              "\n",
              "/* On hover */\n",
              "div.sk-estimator:hover .sk-estimator-doc-link:hover,\n",
              ".sk-estimator-doc-link:hover,\n",
              "div.sk-label-container:hover .sk-estimator-doc-link:hover,\n",
              ".sk-estimator-doc-link:hover {\n",
              "  /* unfitted */\n",
              "  background-color: var(--sklearn-color-unfitted-level-3);\n",
              "  color: var(--sklearn-color-background);\n",
              "  text-decoration: none;\n",
              "}\n",
              "\n",
              "div.sk-estimator.fitted:hover .sk-estimator-doc-link.fitted:hover,\n",
              ".sk-estimator-doc-link.fitted:hover,\n",
              "div.sk-label-container:hover .sk-estimator-doc-link.fitted:hover,\n",
              ".sk-estimator-doc-link.fitted:hover {\n",
              "  /* fitted */\n",
              "  background-color: var(--sklearn-color-fitted-level-3);\n",
              "  color: var(--sklearn-color-background);\n",
              "  text-decoration: none;\n",
              "}\n",
              "\n",
              "/* Span, style for the box shown on hovering the info icon */\n",
              ".sk-estimator-doc-link span {\n",
              "  display: none;\n",
              "  z-index: 9999;\n",
              "  position: relative;\n",
              "  font-weight: normal;\n",
              "  right: .2ex;\n",
              "  padding: .5ex;\n",
              "  margin: .5ex;\n",
              "  width: min-content;\n",
              "  min-width: 20ex;\n",
              "  max-width: 50ex;\n",
              "  color: var(--sklearn-color-text);\n",
              "  box-shadow: 2pt 2pt 4pt #999;\n",
              "  /* unfitted */\n",
              "  background: var(--sklearn-color-unfitted-level-0);\n",
              "  border: .5pt solid var(--sklearn-color-unfitted-level-3);\n",
              "}\n",
              "\n",
              ".sk-estimator-doc-link.fitted span {\n",
              "  /* fitted */\n",
              "  background: var(--sklearn-color-fitted-level-0);\n",
              "  border: var(--sklearn-color-fitted-level-3);\n",
              "}\n",
              "\n",
              ".sk-estimator-doc-link:hover span {\n",
              "  display: block;\n",
              "}\n",
              "\n",
              "/* \"?\"-specific style due to the `<a>` HTML tag */\n",
              "\n",
              "#sk-container-id-3 a.estimator_doc_link {\n",
              "  float: right;\n",
              "  font-size: 1rem;\n",
              "  line-height: 1em;\n",
              "  font-family: monospace;\n",
              "  background-color: var(--sklearn-color-background);\n",
              "  border-radius: 1rem;\n",
              "  height: 1rem;\n",
              "  width: 1rem;\n",
              "  text-decoration: none;\n",
              "  /* unfitted */\n",
              "  color: var(--sklearn-color-unfitted-level-1);\n",
              "  border: var(--sklearn-color-unfitted-level-1) 1pt solid;\n",
              "}\n",
              "\n",
              "#sk-container-id-3 a.estimator_doc_link.fitted {\n",
              "  /* fitted */\n",
              "  border: var(--sklearn-color-fitted-level-1) 1pt solid;\n",
              "  color: var(--sklearn-color-fitted-level-1);\n",
              "}\n",
              "\n",
              "/* On hover */\n",
              "#sk-container-id-3 a.estimator_doc_link:hover {\n",
              "  /* unfitted */\n",
              "  background-color: var(--sklearn-color-unfitted-level-3);\n",
              "  color: var(--sklearn-color-background);\n",
              "  text-decoration: none;\n",
              "}\n",
              "\n",
              "#sk-container-id-3 a.estimator_doc_link.fitted:hover {\n",
              "  /* fitted */\n",
              "  background-color: var(--sklearn-color-fitted-level-3);\n",
              "}\n",
              "</style><div id=\"sk-container-id-3\" class=\"sk-top-container\"><div class=\"sk-text-repr-fallback\"><pre>MLPClassifier(hidden_layer_sizes=(256, 128, 64), max_iter=1000, random_state=42)</pre><b>In a Jupyter environment, please rerun this cell to show the HTML representation or trust the notebook. <br />On GitHub, the HTML representation is unable to render, please try loading this page with nbviewer.org.</b></div><div class=\"sk-container\" hidden><div class=\"sk-item\"><div class=\"sk-estimator  sk-toggleable\"><input class=\"sk-toggleable__control sk-hidden--visually\" id=\"sk-estimator-id-3\" type=\"checkbox\" checked><label for=\"sk-estimator-id-3\" class=\"sk-toggleable__label  sk-toggleable__label-arrow \">&nbsp;&nbsp;MLPClassifier<a class=\"sk-estimator-doc-link \" rel=\"noreferrer\" target=\"_blank\" href=\"https://scikit-learn.org/1.5/modules/generated/sklearn.neural_network.MLPClassifier.html\">?<span>Documentation for MLPClassifier</span></a><span class=\"sk-estimator-doc-link \">i<span>Not fitted</span></span></label><div class=\"sk-toggleable__content \"><pre>MLPClassifier(hidden_layer_sizes=(256, 128, 64), max_iter=1000, random_state=42)</pre></div> </div></div></div></div>"
            ]
          },
          "metadata": {},
          "execution_count": 62
        }
      ],
      "source": [
        "from sklearn.neural_network import MLPClassifier\n",
        "mlp_vis = MLPClassifier(\n",
        "    hidden_layer_sizes=(256,128,64),\n",
        "    activation='relu',\n",
        "    solver='adam',\n",
        "    max_iter=1000,\n",
        "    early_stopping = False,\n",
        "    validation_fraction=0.1,\n",
        "    n_iter_no_change=10,\n",
        "    random_state=seed\n",
        "    )\n",
        "mlp_vis"
      ]
    },
    {
      "cell_type": "markdown",
      "source": [
        "Create list of scores and epochs and run a partial fit to track values across each epoch"
      ],
      "metadata": {
        "id": "PXyWJxn4j4Y0"
      }
    },
    {
      "cell_type": "code",
      "execution_count": null,
      "metadata": {
        "id": "brPniNgbZqw4"
      },
      "outputs": [],
      "source": [
        "scores = []\n",
        "epochs = []\n",
        "#Run partial fit to match number of iterations in original MLP Model\n",
        "#This is neccessary because early stopping is not available in partial fitting\n",
        "for epoch in range(mlp.n_iter_):\n",
        "  mlp_vis.partial_fit(X_train,y_train,classes=y_train)\n",
        "  scores.append(mlp_vis.score(X_test,y_test))\n",
        "  epochs.append(epoch)"
      ]
    },
    {
      "cell_type": "markdown",
      "source": [
        "**Make Prediction**"
      ],
      "metadata": {
        "id": "YcU8cBw5kAri"
      }
    },
    {
      "cell_type": "code",
      "execution_count": null,
      "metadata": {
        "id": "HpgMvqHshBGZ"
      },
      "outputs": [],
      "source": [
        "y_pred_vis = mlp_vis.predict(X_test)"
      ]
    },
    {
      "cell_type": "markdown",
      "source": [
        "Verify Similiar Accuracy to Original Model"
      ],
      "metadata": {
        "id": "mRTuoz4LkE77"
      }
    },
    {
      "cell_type": "code",
      "execution_count": null,
      "metadata": {
        "colab": {
          "base_uri": "https://localhost:8080/"
        },
        "id": "3hjLg2L8hD6p",
        "outputId": "aff743b3-f42c-4023-fd84-0f8c953b8c25"
      },
      "outputs": [
        {
          "output_type": "stream",
          "name": "stdout",
          "text": [
            "Accuracy:  69.94875549048317\n",
            "              precision    recall  f1-score   support\n",
            "\n",
            "           0       0.76      0.75      0.75       560\n",
            "           1       0.33      0.21      0.25       126\n",
            "           2       0.52      0.48      0.50       363\n",
            "           3       0.62      0.66      0.64       451\n",
            "           4       0.66      0.71      0.69       551\n",
            "           5       0.87      0.89      0.88       681\n",
            "\n",
            "    accuracy                           0.70      2732\n",
            "   macro avg       0.63      0.61      0.62      2732\n",
            "weighted avg       0.69      0.70      0.69      2732\n",
            "\n"
          ]
        }
      ],
      "source": [
        "get_accuracy_table(y_test,y_pred_vis)"
      ]
    },
    {
      "cell_type": "markdown",
      "source": [
        "**Accuracy Per Epoch**"
      ],
      "metadata": {
        "id": "CkmijK7clnyo"
      }
    },
    {
      "cell_type": "code",
      "execution_count": null,
      "metadata": {
        "colab": {
          "base_uri": "https://localhost:8080/",
          "height": 449
        },
        "id": "tMPJuHKpbFUc",
        "outputId": "8242f4ea-7c86-47cd-b4bf-14bb462a3d5e"
      },
      "outputs": [
        {
          "output_type": "display_data",
          "data": {
            "text/plain": [
              "<Figure size 640x480 with 1 Axes>"
            ],
            "image/png": "[encoded data removed]"
          },
          "metadata": {}
        }
      ],
      "source": [
        "#Fig 19\n",
        "plt.plot(scores,color=\"coral\")\n",
        "plt.ylabel(\"Accuracy\")\n",
        "plt.xlabel(\"Epoch\")\n",
        "plt.show()"
      ]
    },
    {
      "cell_type": "markdown",
      "source": [
        "**K-Fold vs Full Dataset**"
      ],
      "metadata": {
        "id": "2j42o7crlrnA"
      }
    },
    {
      "cell_type": "code",
      "source": [
        "x = [i+1 for i in range(len(k_fold_rfc))]\n",
        "y = k_fold_mlp\n",
        "f1 = f1_score(y_test,y_pred,average=\"weighted\")\n",
        "\n",
        "fig, ax=plt.subplots()\n",
        "\n",
        "plt.gca().yaxis.set_major_formatter(PercentFormatter(1))\n",
        "plt.ylim(0.68,0.75)\n",
        "\n",
        "ax.bar(x,y,label='K Fold',color='coral',alpha=0.75)\n",
        "ax.bar(11,f1,label='Full Dataset',color='sandybrown')\n",
        "\n",
        "plt.legend(loc='upper left')\n",
        "\n",
        "\n",
        "plt.xlabel(\"Fold\")\n",
        "plt.ylabel(\"F1 Score\")\n",
        "plt.show()"
      ],
      "metadata": {
        "colab": {
          "base_uri": "https://localhost:8080/",
          "height": 455
        },
        "id": "LWfxWv5Awkwj",
        "outputId": "0d6ae998-3b43-4188-dad1-d966d5bf7597"
      },
      "execution_count": null,
      "outputs": [
        {
          "output_type": "display_data",
          "data": {
            "text/plain": [
              "<Figure size 640x480 with 1 Axes>"
            ],
            "image/png": "[encoded data removed]"
          },
          "metadata": {}
        }
      ]
    },
    {
      "cell_type": "markdown",
      "source": [
        "**Confusion Matrix**"
      ],
      "metadata": {
        "id": "jVJ5XCKNlvFz"
      }
    },
    {
      "cell_type": "code",
      "execution_count": null,
      "metadata": {
        "colab": {
          "base_uri": "https://localhost:8080/",
          "height": 815
        },
        "id": "xJ8tPP21Xp_d",
        "outputId": "ef81290b-96eb-404b-a305-72cbe01fcdd2"
      },
      "outputs": [
        {
          "output_type": "display_data",
          "data": {
            "text/plain": [
              "<Figure size 1000x1000 with 2 Axes>"
            ],
            "image/png": "[encoded data removed]"
          },
          "metadata": {}
        }
      ],
      "source": [
        "#Fig 18\n",
        "labels = [\"Not Visibile\",\"Poor\",\"Below Average\",\"Average\",\"Above Average\",\"Transparent\"]\n",
        "cm = metrics.confusion_matrix(y_test, y_pred)\n",
        "fig, ax = plt.subplots(figsize=(10, 10))\n",
        "disp = metrics.ConfusionMatrixDisplay(confusion_matrix=cm, display_labels=labels)\n",
        "disp.plot(ax=ax,cmap=\"OrRd\")\n",
        "plt.show()"
      ]
    },
    {
      "cell_type": "markdown",
      "source": [
        "#**Testing Different Pre-Processing**"
      ],
      "metadata": {
        "id": "DDqPpgkyghQP"
      }
    },
    {
      "cell_type": "markdown",
      "source": [
        "##Different Pre-Processing Methods"
      ],
      "metadata": {
        "id": "LrDruaAph4ch"
      }
    },
    {
      "cell_type": "code",
      "source": [
        "def no_upsampling_no_pca(model):\n",
        "  #Train Test Split\n",
        "  X_train, X_test, y_train, y_test = train_test_split(\n",
        "      attributes_normal,\n",
        "      target.values,\n",
        "      test_size=0.3,\n",
        "      stratify=target.values,\n",
        "      random_state=seed)\n",
        "  #Train Model\n",
        "  model.fit(X_train,y_train)\n",
        "  #Get Predicted Values\n",
        "  y_pred = model.predict(X_test)\n",
        "  #Accuracy Score\n",
        "  acc = metrics.accuracy_score(y_test, y_pred)\n",
        "  return acc"
      ],
      "metadata": {
        "id": "O8rt7sRypdhV"
      },
      "execution_count": null,
      "outputs": []
    },
    {
      "cell_type": "code",
      "source": [
        "def no_upsampling_pca(model):\n",
        "  #PCA\n",
        "  pca = PCA(n_components = 10)\n",
        "  attributes_pca = pca.fit_transform(attributes_normal)\n",
        "  #Train Test Split\n",
        "  X_train, X_test, y_train, y_test = train_test_split(\n",
        "      attributes_pca,\n",
        "      target.values,\n",
        "      test_size=0.3,\n",
        "      stratify=target.values,\n",
        "      random_state=seed)\n",
        "  #Train Model\n",
        "  model.fit(X_train,y_train)\n",
        "  #Get Predicted Values\n",
        "  y_pred = model.predict(X_test)\n",
        "  #Accuracy Score\n",
        "  acc = metrics.accuracy_score(y_test, y_pred)\n",
        "  return acc"
      ],
      "metadata": {
        "id": "0j7-l7xsqpbz"
      },
      "execution_count": null,
      "outputs": []
    },
    {
      "cell_type": "code",
      "source": [
        "def upsampling_pca(model):\n",
        "  #PCA\n",
        "  pca = PCA(n_components = 10)\n",
        "  attributes_pca = pca.fit_transform(attributes_normal)\n",
        "  #Train Test Split\n",
        "  X_train, X_test, y_train, y_test = train_test_split(\n",
        "      attributes_pca,\n",
        "      target.values,\n",
        "      test_size=0.3,\n",
        "      stratify=target.values,\n",
        "      random_state=seed)\n",
        "  #Upsample\n",
        "  oversampler = RandomOverSampler(random_state=seed)\n",
        "  X_train, y_train = oversampler.fit_resample(X_train, y_train)\n",
        "  #Train Model\n",
        "  model.fit(X_train,y_train)\n",
        "  #Get Predicted Values\n",
        "  y_pred = model.predict(X_test)\n",
        "  #Accuracy Score\n",
        "  acc = metrics.accuracy_score(y_test, y_pred)\n",
        "  return acc"
      ],
      "metadata": {
        "id": "ITn85rmxrUMN"
      },
      "execution_count": null,
      "outputs": []
    },
    {
      "cell_type": "code",
      "source": [
        "def upsampling_no_pca(model):\n",
        "  #Train Test Split\n",
        "  X_train, X_test, y_train, y_test = train_test_split(\n",
        "      attributes_normal,\n",
        "      target.values,\n",
        "      test_size=0.3,\n",
        "      stratify=target.values,\n",
        "      random_state=seed)\n",
        "  #Upsample\n",
        "  oversampler = RandomOverSampler(random_state=seed)\n",
        "  X_train, y_train = oversampler.fit_resample(X_train, y_train)\n",
        "  #Train Model\n",
        "  model.fit(X_train,y_train)\n",
        "  #Get Predicted Values\n",
        "  y_pred = model.predict(X_test)\n",
        "  #Accuracy Score\n",
        "  acc = metrics.accuracy_score(y_test, y_pred)\n",
        "  return acc"
      ],
      "metadata": {
        "id": "DR2M_CeLrbuR"
      },
      "execution_count": null,
      "outputs": []
    },
    {
      "cell_type": "markdown",
      "source": [
        "##Gradient Boost Methodologies"
      ],
      "metadata": {
        "id": "4d2v7gw0tKlv"
      }
    },
    {
      "cell_type": "code",
      "source": [
        "gb_methodologies={}"
      ],
      "metadata": {
        "id": "qbzWnzqKPMK-"
      },
      "execution_count": null,
      "outputs": []
    },
    {
      "cell_type": "code",
      "source": [
        "#Recreate Model\n",
        "gb_methodologies_model = GradientBoostingClassifier(\n",
        "    n_estimators=1000,\n",
        "    max_depth = 5,\n",
        "    random_state = seed,\n",
        "    learning_rate=0.1,\n",
        "    validation_fraction=0.1,\n",
        "    n_iter_no_change=10,\n",
        "    min_samples_split=50,\n",
        "    min_samples_leaf=50)\n",
        "#Store Accuracy\n",
        "gb_methodologies[\"No Upsampling No PCA\"] = no_upsampling_no_pca(gb_methodologies_model)\n",
        "gb_methodologies"
      ],
      "metadata": {
        "id": "XgVJMsU4PPtR"
      },
      "execution_count": null,
      "outputs": []
    },
    {
      "cell_type": "code",
      "source": [
        "#Recreate Model\n",
        "gb_methodologies_model = GradientBoostingClassifier(\n",
        "    n_estimators=1000,\n",
        "    max_depth = 5,\n",
        "    random_state = seed,\n",
        "    learning_rate=0.1,\n",
        "    validation_fraction=0.1,\n",
        "    n_iter_no_change=10,\n",
        "    min_samples_split=50,\n",
        "    min_samples_leaf=50)\n",
        "\n",
        "#Store Accuracy Results\n",
        "gb_methodologies[\"No Upsampling PCA\"] = no_upsampling_pca(gb_methodologies_model)\n",
        "gb_methodologies"
      ],
      "metadata": {
        "id": "2bvS3HwxQxzA",
        "colab": {
          "base_uri": "https://localhost:8080/"
        },
        "outputId": "d2debfb8-ab09-47e7-aaed-b3210c33e6a3"
      },
      "execution_count": null,
      "outputs": [
        {
          "output_type": "execute_result",
          "data": {
            "text/plain": [
              "{'No Upsampling No PCA': 0.7364568081991215,\n",
              " 'No Upsampling PCA': 0.6599560761346999}"
            ]
          },
          "metadata": {},
          "execution_count": 82
        }
      ]
    },
    {
      "cell_type": "code",
      "source": [
        "#Recreate Model\n",
        "gb_methodologies_model = GradientBoostingClassifier(\n",
        "    n_estimators=1000,\n",
        "    max_depth = 5,\n",
        "    random_state = seed,\n",
        "    learning_rate=0.1,\n",
        "    validation_fraction=0.1,\n",
        "    n_iter_no_change=10,\n",
        "    min_samples_split=50,\n",
        "    min_samples_leaf=50)\n",
        "\n",
        "#Store Accuracy Results\n",
        "gb_methodologies[\"Upsampling PCA\"] = upsampling_pca(gb_methodologies_model)\n",
        "gb_methodologies"
      ],
      "metadata": {
        "id": "0NhPHLAbR9sR",
        "colab": {
          "base_uri": "https://localhost:8080/"
        },
        "outputId": "86280873-2d1b-48d4-eb32-6ed824a4644e"
      },
      "execution_count": null,
      "outputs": [
        {
          "output_type": "execute_result",
          "data": {
            "text/plain": [
              "{'No Upsampling No PCA': 0.7364568081991215,\n",
              " 'No Upsampling PCA': 0.6599560761346999,\n",
              " 'Upsampling PCA': 0.6570278184480234}"
            ]
          },
          "metadata": {},
          "execution_count": 83
        }
      ]
    },
    {
      "cell_type": "code",
      "source": [
        "#Recreate Model\n",
        "gb_methodologies_model = GradientBoostingClassifier(\n",
        "    n_estimators=1000,\n",
        "    max_depth = 5,\n",
        "    random_state = seed,\n",
        "    learning_rate=0.1,\n",
        "    validation_fraction=0.1,\n",
        "    n_iter_no_change=10,\n",
        "    min_samples_split=50,\n",
        "    min_samples_leaf=50)\n",
        "\n",
        "#Store Accuracy Results\n",
        "gb_methodologies[\"Upsampling No PCA\"] = upsampling_no_pca(gb_methodologies_model)\n",
        "gb_methodologies"
      ],
      "metadata": {
        "id": "lJVFffzgYPEq",
        "colab": {
          "base_uri": "https://localhost:8080/"
        },
        "outputId": "e7801b38-4ee1-4ae0-e0f6-f8b58d07006f"
      },
      "execution_count": null,
      "outputs": [
        {
          "output_type": "execute_result",
          "data": {
            "text/plain": [
              "{'No Upsampling No PCA': 0.7364568081991215,\n",
              " 'No Upsampling PCA': 0.6599560761346999,\n",
              " 'Upsampling PCA': 0.6570278184480234,\n",
              " 'Upsampling No PCA': 0.732796486090776}"
            ]
          },
          "metadata": {},
          "execution_count": 84
        }
      ]
    },
    {
      "cell_type": "markdown",
      "source": [
        "##Random Forest Methodologies"
      ],
      "metadata": {
        "id": "Ks1yA74ctStP"
      }
    },
    {
      "cell_type": "code",
      "source": [
        "rfc_methodologies={}"
      ],
      "metadata": {
        "id": "SQ0ecMoTN5vz"
      },
      "execution_count": null,
      "outputs": []
    },
    {
      "cell_type": "code",
      "source": [
        "#Recreate Model\n",
        "rfc_methodologies_model = RandomForestClassifier(\n",
        "    class_weight='balanced',\n",
        "    max_depth=5,max_features='sqrt',\n",
        "    n_estimators=300,\n",
        "    random_state=seed)\n",
        "\n",
        "#Store Accuracy Results\n",
        "rfc_methodologies[\"No Upsampling No PCA\"] = no_upsampling_no_pca(rfc_methodologies_model)\n",
        "rfc_methodologies"
      ],
      "metadata": {
        "id": "RSSSpuCLOFc-",
        "colab": {
          "base_uri": "https://localhost:8080/"
        },
        "outputId": "155038ff-7119-4b3e-e3c6-d38509bb6489"
      },
      "execution_count": null,
      "outputs": [
        {
          "output_type": "execute_result",
          "data": {
            "text/plain": [
              "{'No Upsampling No PCA': 0.5607613469985359}"
            ]
          },
          "metadata": {},
          "execution_count": 86
        }
      ]
    },
    {
      "cell_type": "code",
      "source": [
        "#Recreate Model\n",
        "rfc_methodologies_model = RandomForestClassifier(\n",
        "    class_weight='balanced',\n",
        "    max_depth=5,max_features='sqrt',\n",
        "    n_estimators=300,\n",
        "    random_state=seed)\n",
        "\n",
        "#Store Accuracy Results\n",
        "rfc_methodologies[\"No Upsampling PCA\"] = no_upsampling_pca(rfc_methodologies_model)\n",
        "rfc_methodologies"
      ],
      "metadata": {
        "id": "9kjBXJHaQTx1",
        "colab": {
          "base_uri": "https://localhost:8080/"
        },
        "outputId": "cb64b95f-b93e-4630-b554-cea46f1f24c2"
      },
      "execution_count": null,
      "outputs": [
        {
          "output_type": "execute_result",
          "data": {
            "text/plain": [
              "{'No Upsampling No PCA': 0.5607613469985359,\n",
              " 'No Upsampling PCA': 0.5453879941434846}"
            ]
          },
          "metadata": {},
          "execution_count": 87
        }
      ]
    },
    {
      "cell_type": "code",
      "source": [
        "#Recreate Model\n",
        "rfc_methodologies_model = RandomForestClassifier(\n",
        "    class_weight='balanced',\n",
        "    max_depth=5,max_features='sqrt',\n",
        "    n_estimators=300,\n",
        "    random_state=seed)\n",
        "\n",
        "#Store Accuracy Results\n",
        "rfc_methodologies[\"Upsampling PCA\"] = upsampling_pca(rfc_methodologies_model)\n",
        "rfc_methodologies"
      ],
      "metadata": {
        "id": "igwxnOvGRO8Q",
        "colab": {
          "base_uri": "https://localhost:8080/"
        },
        "outputId": "4e676b9b-f8ce-4e75-e1b8-4e59a4fd87a5"
      },
      "execution_count": null,
      "outputs": [
        {
          "output_type": "execute_result",
          "data": {
            "text/plain": [
              "{'No Upsampling No PCA': 0.5607613469985359,\n",
              " 'No Upsampling PCA': 0.5453879941434846,\n",
              " 'Upsampling PCA': 0.5336749633967789}"
            ]
          },
          "metadata": {},
          "execution_count": 88
        }
      ]
    },
    {
      "cell_type": "code",
      "source": [
        "#Recreate Model\n",
        "rfc_methodologies_model = RandomForestClassifier(\n",
        "    class_weight='balanced',\n",
        "    max_depth=5,max_features='sqrt',\n",
        "    n_estimators=300,\n",
        "    random_state=seed)\n",
        "\n",
        "#Store Accuracy Results\n",
        "rfc_methodologies[\"Upsampling No PCA\"] = upsampling_no_pca(rfc_methodologies_model)\n",
        "rfc_methodologies"
      ],
      "metadata": {
        "id": "vhKJVA5SYDzk",
        "colab": {
          "base_uri": "https://localhost:8080/"
        },
        "outputId": "451ec8da-f15b-41d9-b212-58ca20a155a5"
      },
      "execution_count": null,
      "outputs": [
        {
          "output_type": "execute_result",
          "data": {
            "text/plain": [
              "{'No Upsampling No PCA': 0.5607613469985359,\n",
              " 'No Upsampling PCA': 0.5453879941434846,\n",
              " 'Upsampling PCA': 0.5336749633967789,\n",
              " 'Upsampling No PCA': 0.5677159590043924}"
            ]
          },
          "metadata": {},
          "execution_count": 89
        }
      ]
    },
    {
      "cell_type": "markdown",
      "source": [
        "##Multilayer Perceptron Methodologies"
      ],
      "metadata": {
        "id": "b5Bu1O5ktVwT"
      }
    },
    {
      "cell_type": "code",
      "source": [
        "mlp_methodologies = {}"
      ],
      "metadata": {
        "id": "yQerKR2wP2af"
      },
      "execution_count": null,
      "outputs": []
    },
    {
      "cell_type": "code",
      "source": [
        "#Recreate Model\n",
        "mlp_methodologies_model = MLPClassifier(\n",
        "    hidden_layer_sizes=(256,128,64),\n",
        "    activation='relu',\n",
        "    solver='adam',\n",
        "    max_iter=1000,\n",
        "    early_stopping = True,\n",
        "    validation_fraction=0.1,\n",
        "    n_iter_no_change=10,\n",
        "    random_state=seed\n",
        "    )\n",
        "\n",
        "#Store Accurracy\n",
        "mlp_methodologies[\"No Upsampling No PCA\"] =  no_upsampling_no_pca(mlp_methodologies_model)\n",
        "mlp_methodologies"
      ],
      "metadata": {
        "id": "Nnth6f8MP5Zl",
        "colab": {
          "base_uri": "https://localhost:8080/"
        },
        "outputId": "0250e848-eba5-4674-f196-38429d5465e9"
      },
      "execution_count": null,
      "outputs": [
        {
          "output_type": "execute_result",
          "data": {
            "text/plain": [
              "{'No Upsampling No PCA': 0.7093704245973645}"
            ]
          },
          "metadata": {},
          "execution_count": 91
        }
      ]
    },
    {
      "cell_type": "code",
      "source": [
        "#Recreate Model\n",
        "mlp_methodologies_model = MLPClassifier(\n",
        "    hidden_layer_sizes=(256,128,64),\n",
        "    activation='relu',\n",
        "    solver='adam',\n",
        "    max_iter=1000,\n",
        "    early_stopping = True,\n",
        "    validation_fraction=0.1,\n",
        "    n_iter_no_change=10,\n",
        "    random_state=seed\n",
        "    )\n",
        "\n",
        "#Store Accurracy\n",
        "\n",
        "mlp_methodologies[\"Upsampling No PCA\"] =  upsampling_no_pca(mlp_methodologies_model)\n",
        "mlp_methodologies"
      ],
      "metadata": {
        "id": "22IrmcZ_ZiJT",
        "colab": {
          "base_uri": "https://localhost:8080/"
        },
        "outputId": "878fc03f-d70b-4a80-ebfd-3157fed98074"
      },
      "execution_count": null,
      "outputs": [
        {
          "output_type": "execute_result",
          "data": {
            "text/plain": [
              "{'No Upsampling No PCA': 0.7093704245973645,\n",
              " 'Upsampling No PCA': 0.705710102489019}"
            ]
          },
          "metadata": {},
          "execution_count": 92
        }
      ]
    },
    {
      "cell_type": "markdown",
      "source": [
        "##**Different Methodologies Visualization**"
      ],
      "metadata": {
        "id": "aMsrdJXdl_h3"
      }
    },
    {
      "cell_type": "code",
      "source": [
        "fig, ax=plt.subplots(3,1,figsize=(8,8))\n",
        "\n",
        "for key,value in rfc_methodologies.items():\n",
        "  if key == \"Upsampling No PCA\":\n",
        "    colors=\"goldenrod\"\n",
        "  else:\n",
        "    colors=\"orangered\"\n",
        "\n",
        "  ax[0].bar(key,value,label='Model',color=colors,alpha=0.75,width=0.75)\n",
        "  ax[0].yaxis.set_major_formatter(PercentFormatter(1))\n",
        "\n",
        "for key,value in gb_methodologies.items():\n",
        "  if key == \"No Upsampling No PCA\":\n",
        "    colors=\"goldenrod\"\n",
        "  else:\n",
        "    colors=\"orangered\"\n",
        "\n",
        "  ax[1].bar(key,value,label='Model',color=colors,alpha=0.75,width=0.75)\n",
        "  ax[1].yaxis.set_major_formatter(PercentFormatter(1))\n",
        "\n",
        "for key,value in mlp_methodologies.items():\n",
        "  if key == \"No Upsampling No PCA\":\n",
        "    colors=\"goldenrod\"\n",
        "  else:\n",
        "    colors=\"orangered\"\n",
        "\n",
        "  ax[2].bar(key,value,label='Model',color=colors,alpha=0.75,width=0.5)\n",
        "  ax[2].yaxis.set_major_formatter(PercentFormatter(1))\n",
        "\n",
        "ax[0].set_ylabel(\"Accuracy\")\n",
        "ax[1].set_ylabel(\"Accuracy\")\n",
        "ax[2].set_ylabel(\"Accuracy\")\n",
        "\n",
        "ax[0].set_title(\"Random Forest\")\n",
        "ax[1].set_title(\"Gradient Boost\")\n",
        "ax[2].set_title('Multi Layer Perceptron')\n",
        "\n",
        "plt.tight_layout()"
      ],
      "metadata": {
        "colab": {
          "base_uri": "https://localhost:8080/",
          "height": 807
        },
        "id": "8aVJIgrhYVbM",
        "outputId": "3191cb9a-2582-4d87-ffe7-8b2280dc8ac4"
      },
      "execution_count": null,
      "outputs": [
        {
          "output_type": "display_data",
          "data": {
            "text/plain": [
              "<Figure size 800x800 with 3 Axes>"
            ],
            "image/png": "[encoded data removed]"
          },
          "metadata": {}
        }
      ]
    },
    {
      "cell_type": "markdown",
      "source": [
        "#**Real World Simulations**"
      ],
      "metadata": {
        "id": "Y9F1wmu0l2Fu"
      }
    },
    {
      "cell_type": "code",
      "source": [
        "#Recreate Model\n",
        "rfc_simulation = RandomForestClassifier(\n",
        "    class_weight='balanced',\n",
        "    max_depth=5,max_features='sqrt',\n",
        "    n_estimators=300,\n",
        "    random_state=seed)\n",
        "\n",
        "rfc_accuracy = upsampling_pca(rfc_simulation)\n",
        "rfc_accuracy"
      ],
      "metadata": {
        "colab": {
          "base_uri": "https://localhost:8080/"
        },
        "id": "p3UZu85tvJ78",
        "outputId": "536baeef-3a02-44dc-d471-6f01a04d7ad7"
      },
      "execution_count": null,
      "outputs": [
        {
          "output_type": "execute_result",
          "data": {
            "text/plain": [
              "0.5336749633967789"
            ]
          },
          "metadata": {},
          "execution_count": 136
        }
      ]
    },
    {
      "cell_type": "code",
      "source": [
        "#Recreate Model\n",
        "gb_simulation = GradientBoostingClassifier(\n",
        "    n_estimators=1000,\n",
        "    max_depth = 5,\n",
        "    random_state = seed,\n",
        "    learning_rate=0.1,\n",
        "    validation_fraction=0.1,\n",
        "    n_iter_no_change=10,\n",
        "    min_samples_split=50,\n",
        "    min_samples_leaf=50)\n",
        "\n",
        "gb_accuracy = upsampling_pca(gb_simulation)\n",
        "gb_accuracy"
      ],
      "metadata": {
        "colab": {
          "base_uri": "https://localhost:8080/"
        },
        "id": "6dm4j9icvwih",
        "outputId": "24ec4187-8c1f-4716-cb26-f27f09e527f1"
      },
      "execution_count": null,
      "outputs": [
        {
          "output_type": "execute_result",
          "data": {
            "text/plain": [
              "0.6570278184480234"
            ]
          },
          "metadata": {},
          "execution_count": 137
        }
      ]
    },
    {
      "cell_type": "code",
      "source": [
        "#Recreate Model\n",
        "mlp_simulation = MLPClassifier(\n",
        "    hidden_layer_sizes=(256,128,64),\n",
        "    activation='relu',\n",
        "    solver='adam',\n",
        "    max_iter=1000,\n",
        "    early_stopping = True,\n",
        "    validation_fraction=0.1,\n",
        "    n_iter_no_change=10,\n",
        "    random_state=seed\n",
        "    )\n",
        "\n",
        "mlp_accuracy = upsampling_no_pca(mlp_simulation)\n",
        "mlp_accuracy"
      ],
      "metadata": {
        "colab": {
          "base_uri": "https://localhost:8080/"
        },
        "id": "ahwxqz_vv6W7",
        "outputId": "d9faded1-21d2-4d93-defa-4bd6c6f8a9ff"
      },
      "execution_count": null,
      "outputs": [
        {
          "output_type": "execute_result",
          "data": {
            "text/plain": [
              "0.705710102489019"
            ]
          },
          "metadata": {},
          "execution_count": 138
        }
      ]
    },
    {
      "cell_type": "code",
      "source": [
        "df_real_world = pd.read_csv('/content/transparency_testing.csv')\n",
        "drop_columns = ['transparency_forecast (0-5)']\n",
        "attributes = df_real_world.drop(columns=drop_columns)\n",
        "target = df_real_world [\"transparency_forecast (0-5)\"]\n",
        "scaler = MinMaxScaler()\n",
        "attributes_normal = scaler.fit_transform(attributes.values)"
      ],
      "metadata": {
        "id": "_iWfcUk5ua8J"
      },
      "execution_count": null,
      "outputs": []
    },
    {
      "cell_type": "code",
      "source": [
        "#PCA\n",
        "pca = PCA(n_components = 10)\n",
        "attributes_pca = pca.fit_transform(attributes_normal)\n",
        "#Train Test Split\n",
        "X_train, X_test, y_train, y_test = train_test_split(\n",
        "    attributes_pca,\n",
        "    target.values,\n",
        "    test_size=0.3,\n",
        "    stratify=target.values,\n",
        "    random_state=seed)\n",
        "\n",
        "#Upsample\n",
        "oversampler = RandomOverSampler(random_state=seed)\n",
        "X_train, y_train = oversampler.fit_resample(X_train, y_train)\n",
        "\n",
        "#Make Prediction on New Dataset\n",
        "y_pred = rfc_simulation.predict(X_test)\n",
        "#Measure Accuracy of New Prediction\n",
        "rfc_accuracy_rw = metrics.accuracy_score(y_test, y_pred)\n",
        "rfc_accuracy_rw"
      ],
      "metadata": {
        "colab": {
          "base_uri": "https://localhost:8080/"
        },
        "id": "Mfpm8hvkwIub",
        "outputId": "93ab9902-8e0e-4491-df08-a61baebf878a"
      },
      "execution_count": null,
      "outputs": [
        {
          "output_type": "execute_result",
          "data": {
            "text/plain": [
              "0.2777777777777778"
            ]
          },
          "metadata": {},
          "execution_count": 152
        }
      ]
    },
    {
      "cell_type": "code",
      "source": [
        "#PCA\n",
        "pca = PCA(n_components = 10)\n",
        "attributes_pca = pca.fit_transform(attributes_normal)\n",
        "#Train Test Split\n",
        "X_train, X_test, y_train, y_test = train_test_split(\n",
        "    attributes_pca,\n",
        "    target.values,\n",
        "    test_size=0.3,\n",
        "    stratify=target.values,\n",
        "    random_state=seed)\n",
        "#Upsample\n",
        "oversampler = RandomOverSampler(random_state=seed)\n",
        "X_train, y_train = oversampler.fit_resample(X_train, y_train)\n",
        "\n",
        "#Make Prediction on New Dataset\n",
        "y_pred = gb_simulation.predict(X_test)\n",
        "#Measure Accuracy of New Prediction\n",
        "\n",
        "gb_accuracy_rw = metrics.accuracy_score(y_test, y_pred)\n",
        "gb_accuracy_rw"
      ],
      "metadata": {
        "colab": {
          "base_uri": "https://localhost:8080/"
        },
        "id": "8reQYlOIwIuc",
        "outputId": "7ef8ea34-d514-43b4-e1cf-1ea857980b63"
      },
      "execution_count": null,
      "outputs": [
        {
          "output_type": "execute_result",
          "data": {
            "text/plain": [
              "0.26851851851851855"
            ]
          },
          "metadata": {},
          "execution_count": 151
        }
      ]
    },
    {
      "cell_type": "code",
      "source": [
        "#Train Test Split\n",
        "X_train, X_test, y_train, y_test = train_test_split(\n",
        "    attributes_normal,\n",
        "    target.values,\n",
        "    test_size=0.3,\n",
        "    stratify=target.values,\n",
        "    random_state=seed)\n",
        "\n",
        "#Upsample\n",
        "oversampler = RandomOverSampler(random_state=seed)\n",
        "X_train, y_train = oversampler.fit_resample(X_train, y_train)\n",
        "\n",
        "#Make Prediction on New Dataset\n",
        "y_pred = mlp_simulation.predict(X_test)\n",
        "#Measure Accuracy of New Prediction\n",
        "\n",
        "mlp_accuracy_rw = metrics.accuracy_score(y_test, y_pred)\n",
        "mlp_accuracy_rw"
      ],
      "metadata": {
        "colab": {
          "base_uri": "https://localhost:8080/"
        },
        "id": "5Kj0cmwJwIuc",
        "outputId": "2b035377-e462-4ad6-819f-1af51d32556e"
      },
      "execution_count": null,
      "outputs": [
        {
          "output_type": "execute_result",
          "data": {
            "text/plain": [
              "0.05555555555555555"
            ]
          },
          "metadata": {},
          "execution_count": 150
        }
      ]
    },
    {
      "cell_type": "code",
      "source": [
        "fig, ax=plt.subplots(1,3,figsize=(9.5,3))\n",
        "plt.gca().yaxis.set_major_formatter(PercentFormatter(1))\n",
        "\n",
        "ax[0].bar(\"Real World Data\",rfc_accuracy_rw,label='Model',color='orangered',alpha=0.75,width=0.75)\n",
        "ax[0].bar(\"Testing Dataset\",rfc_accuracy,label='Model',color='goldenrod',alpha=0.75,width=0.75)\n",
        "\n",
        "ax[1].bar(\"Real World Data\",gb_accuracy_rw,label='Model',color='orangered',alpha=0.75,width=0.75)\n",
        "ax[1].bar(\"Testing Dataset\",gb_accuracy,label='Model',color='goldenrod',alpha=0.75,width=0.75)\n",
        "\n",
        "ax[2].bar(\"Real World Data\",mlp_accuracy_rw,label='Model',color='orangered',alpha=0.75,width=0.75)\n",
        "ax[2].bar(\"Testing Dataset\",mlp_accuracy,label='Model',color='goldenrod',alpha=0.75,width=0.75)\n",
        "\n",
        "ax[0].set_ylabel(\"Accuracy\")\n",
        "ax[1].set_ylabel(\"Accuracy\")\n",
        "ax[2].set_ylabel(\"Accuracy\")\n",
        "\n",
        "ax[0].set_title(\"Random Forest\")\n",
        "ax[1].set_title(\"Gradient Boost\")\n",
        "ax[2].set_title('Multi Layer Perceptron')\n",
        "\n",
        "plt.tight_layout()"
      ],
      "metadata": {
        "id": "V4ka8W2PElQt",
        "colab": {
          "base_uri": "https://localhost:8080/",
          "height": 307
        },
        "outputId": "261e02dc-2cb8-47e2-85f1-651b609d906c"
      },
      "execution_count": null,
      "outputs": [
        {
          "output_type": "display_data",
          "data": {
            "text/plain": [
              "<Figure size 950x300 with 3 Axes>"
            ],
            "image/png": "[encoded data removed]"
          },
          "metadata": {}
        }
      ]
    }
  ],
  "metadata": {
    "colab": {
      "provenance": [],
      "mount_file_id": "1n1N2m7dGphPIAkhi0Y0nwoV11x6EanrR",
      "authorship_tag": "ABX9TyMkMOODc+/rfubO8p4I6ihX",
      "include_colab_link": true
    },
    "kernelspec": {
      "display_name": "Python 3",
      "name": "python3"
    },
    "language_info": {
      "name": "python"
    }
  },
  "nbformat": 4,
  "nbformat_minor": 0
}